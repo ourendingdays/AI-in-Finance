{
 "nbformat": 4,
 "nbformat_minor": 0,
 "metadata": {
  "colab": {
   "name": "BidirectLSTM-BTC-1f.ipynb",
   "provenance": [],
   "collapsed_sections": [],
   "toc_visible": true
  },
  "kernelspec": {
   "name": "python3",
   "display_name": "Python 3"
  },
  "accelerator": "GPU",
  "pycharm": {
   "stem_cell": {
    "cell_type": "raw",
    "source": [],
    "metadata": {
     "collapsed": false
    }
   }
  }
 },
 "cells": [
  {
   "cell_type": "markdown",
   "metadata": {
    "id": "MW7SzFLEvCpb"
   },
   "source": [
    "@author: Pavlo Mospan"
   ]
  },
  {
   "cell_type": "markdown",
   "metadata": {
    "id": "6g_BQl183Xd1"
   },
   "source": [
    "### All needed impots"
   ]
  },
  {
   "cell_type": "code",
   "metadata": {
    "id": "VBXq-Wb_K1XR",
    "colab": {
     "base_uri": "https://localhost:8080/"
    },
    "outputId": "2b583f01-67d0-4f35-8ea8-77f69c5becb9"
   },
   "source": [
    "import os\n",
    "import numpy as np\n",
    "from datetime import datetime, date, timedelta\n",
    "\n",
    "import pandas as pd\n",
    "import matplotlib.pyplot as plt\n",
    "%matplotlib inline\n",
    "\n",
    "from sklearn.preprocessing import MinMaxScaler\n",
    "\n",
    "from tensorflow import keras\n",
    "from tensorflow.keras.layers import Bidirectional, Dropout, Activation, Dense, LSTM\n",
    "from tensorflow.python.keras.layers import CuDNNLSTM\n",
    "from tensorflow.keras.models import Sequential\n",
    "\n",
    "!pip install yfinance\n",
    "import yfinance as yf"
   ],
   "execution_count": 1,
   "outputs": [
    {
     "output_type": "stream",
     "text": [
      "Collecting yfinance\n",
      "  Downloading https://files.pythonhosted.org/packages/7a/e8/b9d7104d3a4bf39924799067592d9e59119fcfc900a425a12e80a3123ec8/yfinance-0.1.55.tar.gz\n",
      "Requirement already satisfied: pandas>=0.24 in /usr/local/lib/python3.6/dist-packages (from yfinance) (1.1.5)\n",
      "Requirement already satisfied: numpy>=1.15 in /usr/local/lib/python3.6/dist-packages (from yfinance) (1.19.5)\n",
      "Requirement already satisfied: requests>=2.20 in /usr/local/lib/python3.6/dist-packages (from yfinance) (2.23.0)\n",
      "Requirement already satisfied: multitasking>=0.0.7 in /usr/local/lib/python3.6/dist-packages (from yfinance) (0.0.9)\n",
      "Collecting lxml>=4.5.1\n",
      "\u001b[?25l  Downloading https://files.pythonhosted.org/packages/bd/78/56a7c88a57d0d14945472535d0df9fb4bbad7d34ede658ec7961635c790e/lxml-4.6.2-cp36-cp36m-manylinux1_x86_64.whl (5.5MB)\n",
      "\u001b[K     |████████████████████████████████| 5.5MB 18.4MB/s \n",
      "\u001b[?25hRequirement already satisfied: pytz>=2017.2 in /usr/local/lib/python3.6/dist-packages (from pandas>=0.24->yfinance) (2018.9)\n",
      "Requirement already satisfied: python-dateutil>=2.7.3 in /usr/local/lib/python3.6/dist-packages (from pandas>=0.24->yfinance) (2.8.1)\n",
      "Requirement already satisfied: chardet<4,>=3.0.2 in /usr/local/lib/python3.6/dist-packages (from requests>=2.20->yfinance) (3.0.4)\n",
      "Requirement already satisfied: urllib3!=1.25.0,!=1.25.1,<1.26,>=1.21.1 in /usr/local/lib/python3.6/dist-packages (from requests>=2.20->yfinance) (1.24.3)\n",
      "Requirement already satisfied: certifi>=2017.4.17 in /usr/local/lib/python3.6/dist-packages (from requests>=2.20->yfinance) (2020.12.5)\n",
      "Requirement already satisfied: idna<3,>=2.5 in /usr/local/lib/python3.6/dist-packages (from requests>=2.20->yfinance) (2.10)\n",
      "Requirement already satisfied: six>=1.5 in /usr/local/lib/python3.6/dist-packages (from python-dateutil>=2.7.3->pandas>=0.24->yfinance) (1.15.0)\n",
      "Building wheels for collected packages: yfinance\n",
      "  Building wheel for yfinance (setup.py) ... \u001b[?25l\u001b[?25hdone\n",
      "  Created wheel for yfinance: filename=yfinance-0.1.55-py2.py3-none-any.whl size=22616 sha256=ab26b0e387db15c959cc33032eef5cc0a1a65e1d6343913d628176a2b3d2cb42\n",
      "  Stored in directory: /root/.cache/pip/wheels/04/98/cc/2702a4242d60bdc14f48b4557c427ded1fe92aedf257d4565c\n",
      "Successfully built yfinance\n",
      "Installing collected packages: lxml, yfinance\n",
      "  Found existing installation: lxml 4.2.6\n",
      "    Uninstalling lxml-4.2.6:\n",
      "      Successfully uninstalled lxml-4.2.6\n",
      "Successfully installed lxml-4.6.2 yfinance-0.1.55\n"
     ],
     "name": "stdout"
    }
   ]
  },
  {
   "cell_type": "markdown",
   "metadata": {
    "id": "OC01dl213jzr"
   },
   "source": [
    "### Downloading Bitcoin dataframe with yahoo finance API and then plotting this DF\n",
    "\n",
    "**reset_index** method is used only to make normal numerical indexes, instead of *Date* beeing an index\n"
   ]
  },
  {
   "cell_type": "code",
   "metadata": {
    "id": "BnuBLC5DLjXH",
    "colab": {
     "base_uri": "https://localhost:8080/",
     "height": 436
    },
    "outputId": "a80f3207-0e52-4a6d-e918-e09ecf318772"
   },
   "source": [
    "df = yf.download('BTC-USD', start='2015-08-07')\n",
    "df = df.reset_index()\n",
    "df"
   ],
   "execution_count": 2,
   "outputs": [
    {
     "output_type": "stream",
     "text": [
      "\r[*********************100%***********************]  1 of 1 completed\n"
     ],
     "name": "stdout"
    },
    {
     "output_type": "execute_result",
     "data": {
      "text/html": [
       "<div>\n",
       "<style scoped>\n",
       "    .dataframe tbody tr th:only-of-type {\n",
       "        vertical-align: middle;\n",
       "    }\n",
       "\n",
       "    .dataframe tbody tr th {\n",
       "        vertical-align: top;\n",
       "    }\n",
       "\n",
       "    .dataframe thead th {\n",
       "        text-align: right;\n",
       "    }\n",
       "</style>\n",
       "<table border=\"1\" class=\"dataframe\">\n",
       "  <thead>\n",
       "    <tr style=\"text-align: right;\">\n",
       "      <th></th>\n",
       "      <th>Date</th>\n",
       "      <th>Open</th>\n",
       "      <th>High</th>\n",
       "      <th>Low</th>\n",
       "      <th>Close</th>\n",
       "      <th>Adj Close</th>\n",
       "      <th>Volume</th>\n",
       "    </tr>\n",
       "  </thead>\n",
       "  <tbody>\n",
       "    <tr>\n",
       "      <th>0</th>\n",
       "      <td>2015-08-07</td>\n",
       "      <td>278.740997</td>\n",
       "      <td>280.391998</td>\n",
       "      <td>276.365997</td>\n",
       "      <td>279.584991</td>\n",
       "      <td>279.584991</td>\n",
       "      <td>42484800</td>\n",
       "    </tr>\n",
       "    <tr>\n",
       "      <th>1</th>\n",
       "      <td>2015-08-08</td>\n",
       "      <td>279.742004</td>\n",
       "      <td>279.928009</td>\n",
       "      <td>260.709991</td>\n",
       "      <td>260.997009</td>\n",
       "      <td>260.997009</td>\n",
       "      <td>58533000</td>\n",
       "    </tr>\n",
       "    <tr>\n",
       "      <th>2</th>\n",
       "      <td>2015-08-09</td>\n",
       "      <td>261.115997</td>\n",
       "      <td>267.002991</td>\n",
       "      <td>260.467987</td>\n",
       "      <td>265.083008</td>\n",
       "      <td>265.083008</td>\n",
       "      <td>23789600</td>\n",
       "    </tr>\n",
       "    <tr>\n",
       "      <th>3</th>\n",
       "      <td>2015-08-10</td>\n",
       "      <td>265.477997</td>\n",
       "      <td>267.032013</td>\n",
       "      <td>262.596008</td>\n",
       "      <td>264.470001</td>\n",
       "      <td>264.470001</td>\n",
       "      <td>20979400</td>\n",
       "    </tr>\n",
       "    <tr>\n",
       "      <th>4</th>\n",
       "      <td>2015-08-11</td>\n",
       "      <td>264.342010</td>\n",
       "      <td>270.385986</td>\n",
       "      <td>264.093994</td>\n",
       "      <td>270.385986</td>\n",
       "      <td>270.385986</td>\n",
       "      <td>25433900</td>\n",
       "    </tr>\n",
       "    <tr>\n",
       "      <th>...</th>\n",
       "      <td>...</td>\n",
       "      <td>...</td>\n",
       "      <td>...</td>\n",
       "      <td>...</td>\n",
       "      <td>...</td>\n",
       "      <td>...</td>\n",
       "      <td>...</td>\n",
       "    </tr>\n",
       "    <tr>\n",
       "      <th>2001</th>\n",
       "      <td>2021-02-01</td>\n",
       "      <td>33114.578125</td>\n",
       "      <td>34638.214844</td>\n",
       "      <td>32384.228516</td>\n",
       "      <td>33537.175781</td>\n",
       "      <td>33537.175781</td>\n",
       "      <td>61400400660</td>\n",
       "    </tr>\n",
       "    <tr>\n",
       "      <th>2002</th>\n",
       "      <td>2021-02-02</td>\n",
       "      <td>33533.199219</td>\n",
       "      <td>35896.882812</td>\n",
       "      <td>33489.218750</td>\n",
       "      <td>35510.289062</td>\n",
       "      <td>35510.289062</td>\n",
       "      <td>63088585433</td>\n",
       "    </tr>\n",
       "    <tr>\n",
       "      <th>2003</th>\n",
       "      <td>2021-02-03</td>\n",
       "      <td>35510.820312</td>\n",
       "      <td>37480.187500</td>\n",
       "      <td>35443.984375</td>\n",
       "      <td>37472.089844</td>\n",
       "      <td>37472.089844</td>\n",
       "      <td>61166818159</td>\n",
       "    </tr>\n",
       "    <tr>\n",
       "      <th>2004</th>\n",
       "      <td>2021-02-04</td>\n",
       "      <td>37475.105469</td>\n",
       "      <td>38592.175781</td>\n",
       "      <td>36317.500000</td>\n",
       "      <td>36926.066406</td>\n",
       "      <td>36926.066406</td>\n",
       "      <td>68838074392</td>\n",
       "    </tr>\n",
       "    <tr>\n",
       "      <th>2005</th>\n",
       "      <td>2021-02-05</td>\n",
       "      <td>37506.859375</td>\n",
       "      <td>37672.152344</td>\n",
       "      <td>36698.078125</td>\n",
       "      <td>37508.750000</td>\n",
       "      <td>37508.750000</td>\n",
       "      <td>63528402944</td>\n",
       "    </tr>\n",
       "  </tbody>\n",
       "</table>\n",
       "<p>2006 rows × 7 columns</p>\n",
       "</div>"
      ],
      "text/plain": [
       "           Date          Open  ...     Adj Close       Volume\n",
       "0    2015-08-07    278.740997  ...    279.584991     42484800\n",
       "1    2015-08-08    279.742004  ...    260.997009     58533000\n",
       "2    2015-08-09    261.115997  ...    265.083008     23789600\n",
       "3    2015-08-10    265.477997  ...    264.470001     20979400\n",
       "4    2015-08-11    264.342010  ...    270.385986     25433900\n",
       "...         ...           ...  ...           ...          ...\n",
       "2001 2021-02-01  33114.578125  ...  33537.175781  61400400660\n",
       "2002 2021-02-02  33533.199219  ...  35510.289062  63088585433\n",
       "2003 2021-02-03  35510.820312  ...  37472.089844  61166818159\n",
       "2004 2021-02-04  37475.105469  ...  36926.066406  68838074392\n",
       "2005 2021-02-05  37506.859375  ...  37508.750000  63528402944\n",
       "\n",
       "[2006 rows x 7 columns]"
      ]
     },
     "metadata": {
      "tags": []
     },
     "execution_count": 2
    }
   ]
  },
  {
   "cell_type": "code",
   "metadata": {
    "colab": {
     "base_uri": "https://localhost:8080/",
     "height": 286
    },
    "id": "ZngxVzw2DtcU",
    "outputId": "8e9f21c5-d8fa-4021-b00a-cbac2310e22e"
   },
   "source": [
    "ax = df.plot(x='Date', y='Close');\n",
    "ax.set_xlabel(\"Date\")\n",
    "ax.set_ylabel(\"Close Price (USD)\")"
   ],
   "execution_count": 3,
   "outputs": [
    {
     "output_type": "execute_result",
     "data": {
      "text/plain": [
       "Text(0, 0.5, 'Close Price (USD)')"
      ]
     },
     "metadata": {
      "tags": []
     },
     "execution_count": 3
    },
    {
     "output_type": "display_data",
     "data": {
      "image/png": "[encoded data removed]",
      "text/plain": [
       "<Figure size 432x288 with 1 Axes>"
      ]
     },
     "metadata": {
      "tags": [],
      "needs_background": "light"
     }
    }
   ]
  },
  {
   "cell_type": "markdown",
   "metadata": {
    "id": "7twAH-I-qO9Z"
   },
   "source": [
    "### Normalization\n",
    "\n",
    "Since the scaler expects the data to be shaped as (x, y), I'm adding a dummy dimension using reshape before applying it. \n",
    "\n",
    "**reshape** method transforms array of *Closed* values from shape (2001, 1) into (2001, 1)"
   ]
  },
  {
   "cell_type": "code",
   "metadata": {
    "id": "Ux2FtgMAqObq",
    "colab": {
     "base_uri": "https://localhost:8080/"
    },
    "outputId": "c0cca5c9-fa91-412b-d703-abf010d790c4"
   },
   "source": [
    "scaler = MinMaxScaler()\n",
    "\n",
    "close_price = df.Close.values.reshape(-1, 1)\n",
    "\n",
    "scaled_close = scaler.fit_transform(close_price)\n",
    "\n",
    "scaled_close.shape, np.isnan(scaled_close).any()"
   ],
   "execution_count": 4,
   "outputs": [
    {
     "output_type": "execute_result",
     "data": {
      "text/plain": [
       "((2006, 1), False)"
      ]
     },
     "metadata": {
      "tags": []
     },
     "execution_count": 4
    }
   ]
  },
  {
   "cell_type": "markdown",
   "metadata": {
    "id": "CQgrA2va4Jzx"
   },
   "source": [
    "### Preprocessing\n",
    "\n",
    " LSTMs expect the data to be in 3 dimensions. We need to split the data into sequences of some preset length. The shape we want to obtain is: **[batch_size, sequence_length, n_features]**\n",
    "\n",
    " The process of building sequences works by creating a sequence of a specified length at position 0. Then it's shifted one position to the right (e.g. 1) and creates another sequence. The process is repeated until all possible positions are used.\n",
    "\n",
    " Here, *SEQ_LEN* parameter is set to 20, which means, that 20 days are predicting the next one"
   ]
  },
  {
   "cell_type": "code",
   "metadata": {
    "id": "NS5O4-Vtq-N1",
    "colab": {
     "base_uri": "https://localhost:8080/"
    },
    "outputId": "88a92372-3b82-4391-9468-af485383cbd3"
   },
   "source": [
    "SEQ_LEN = 20\n",
    "whole_data = np.empty([1, 20, 1])\n",
    "whole_targets = np.empty([1, 1])\n",
    "\n",
    "def to_sequences(data, seq_len):\n",
    "    d = []\n",
    "\n",
    "    for index in range(len(data) - seq_len + 1):\n",
    "        d.append(data[index: index + seq_len])\n",
    "\n",
    "    return np.array(d)\n",
    "\n",
    "def preprocess(data_raw, seq_len, train_split):\n",
    "\n",
    "    global whole_data, whole_targets\n",
    "    whole_data = to_sequences(data_raw, seq_len)\n",
    "    whole_targets = whole_data[:, -1, :]\n",
    "    print('whole_data: ', whole_data.shape)\n",
    "    print('whole_targets: ', whole_targets.shape)\n",
    "\n",
    "    num_train = int(train_split * whole_data.shape[0])\n",
    "\n",
    "    X_train = whole_data[:num_train, :, :]\n",
    "    y_train = whole_data[:num_train, -1, :]\n",
    "\n",
    "    X_test = whole_data[num_train:, :, :]\n",
    "    y_test = whole_data[num_train:, -1, :]\n",
    "\n",
    "    return X_train, y_train, X_test, y_test\n",
    "\n",
    "X_train, y_train, X_test, y_test = preprocess(scaled_close, SEQ_LEN, train_split = 0.95)\n",
    "\n",
    "X_train.shape, X_test.shape"
   ],
   "execution_count": 5,
   "outputs": [
    {
     "output_type": "stream",
     "text": [
      "whole_data:  (1987, 20, 1)\n",
      "whole_targets:  (1987, 1)\n"
     ],
     "name": "stdout"
    },
    {
     "output_type": "execute_result",
     "data": {
      "text/plain": [
       "((1887, 20, 1), (100, 20, 1))"
      ]
     },
     "metadata": {
      "tags": []
     },
     "execution_count": 5
    }
   ]
  },
  {
   "cell_type": "markdown",
   "metadata": {
    "id": "-Gsuu4hy6h3k"
   },
   "source": [
    "#### Simply checking arrays if everything's alright"
   ]
  },
  {
   "cell_type": "code",
   "metadata": {
    "colab": {
     "base_uri": "https://localhost:8080/"
    },
    "id": "jSmgdiyJLDW9",
    "outputId": "a96aff46-a5a8-45d1-e471-4cea006e7a79"
   },
   "source": [
    "# Last 20 scaled values of the DataFrame\n",
    "scaled_close[-20:], scaled_close.shape"
   ],
   "execution_count": 6,
   "outputs": [
    {
     "output_type": "execute_result",
     "data": {
      "text/plain": [
       "(array([[0.87665218],\n",
       "        [0.89731876],\n",
       "        [0.88351464],\n",
       "        [0.87065207],\n",
       "        [0.75430847],\n",
       "        [0.80802164],\n",
       "        [0.78490792],\n",
       "        [0.79037114],\n",
       "        [0.79226863],\n",
       "        [0.79728148],\n",
       "        [0.74462184],\n",
       "        [0.77460817],\n",
       "        [0.84031329],\n",
       "        [0.83915866],\n",
       "        [0.81069731],\n",
       "        [0.82111481],\n",
       "        [0.86972909],\n",
       "        [0.91806465],\n",
       "        [0.90461152],\n",
       "        [0.91896789]]), (2006, 1))"
      ]
     },
     "metadata": {
      "tags": []
     },
     "execution_count": 6
    }
   ]
  },
  {
   "cell_type": "code",
   "metadata": {
    "colab": {
     "base_uri": "https://localhost:8080/"
    },
    "id": "pq-nyZNVNN6d",
    "outputId": "b57fd3b0-c1d9-4852-f64a-69f19da7f333"
   },
   "source": [
    "print('The last 2 sequences from whole sequenced data and it\\'s shape: \\n {} | {} \\n Last 5 values to predict (simple values from DF) : \\n \\\n",
    "    {}'.format(whole_data[-2:], whole_data.shape, whole_targets[-5:]))"
   ],
   "execution_count": 7,
   "outputs": [
    {
     "output_type": "stream",
     "text": [
      "The last 2 sequences from whole sequenced data and it's shape: \n",
      " [[[0.88618386]\n",
      "  [0.87665218]\n",
      "  [0.89731876]\n",
      "  [0.88351464]\n",
      "  [0.87065207]\n",
      "  [0.75430847]\n",
      "  [0.80802164]\n",
      "  [0.78490792]\n",
      "  [0.79037114]\n",
      "  [0.79226863]\n",
      "  [0.79728148]\n",
      "  [0.74462184]\n",
      "  [0.77460817]\n",
      "  [0.84031329]\n",
      "  [0.83915866]\n",
      "  [0.81069731]\n",
      "  [0.82111481]\n",
      "  [0.86972909]\n",
      "  [0.91806465]\n",
      "  [0.90461152]]\n",
      "\n",
      " [[0.87665218]\n",
      "  [0.89731876]\n",
      "  [0.88351464]\n",
      "  [0.87065207]\n",
      "  [0.75430847]\n",
      "  [0.80802164]\n",
      "  [0.78490792]\n",
      "  [0.79037114]\n",
      "  [0.79226863]\n",
      "  [0.79728148]\n",
      "  [0.74462184]\n",
      "  [0.77460817]\n",
      "  [0.84031329]\n",
      "  [0.83915866]\n",
      "  [0.81069731]\n",
      "  [0.82111481]\n",
      "  [0.86972909]\n",
      "  [0.91806465]\n",
      "  [0.90461152]\n",
      "  [0.91896789]]] | (1987, 20, 1) \n",
      " Last 5 values to predict (simple values from DF) : \n",
      "     [[0.82111481]\n",
      " [0.86972909]\n",
      " [0.91806465]\n",
      " [0.90461152]\n",
      " [0.91896789]]\n"
     ],
     "name": "stdout"
    }
   ]
  },
  {
   "cell_type": "code",
   "metadata": {
    "colab": {
     "base_uri": "https://localhost:8080/"
    },
    "id": "wP65Eklq1_1Z",
    "outputId": "bfe61c5d-15a4-458d-c851-8b1cc9dd013e"
   },
   "source": [
    "X_test[-1], X_test.shape"
   ],
   "execution_count": 8,
   "outputs": [
    {
     "output_type": "execute_result",
     "data": {
      "text/plain": [
       "(array([[0.87665218],\n",
       "        [0.89731876],\n",
       "        [0.88351464],\n",
       "        [0.87065207],\n",
       "        [0.75430847],\n",
       "        [0.80802164],\n",
       "        [0.78490792],\n",
       "        [0.79037114],\n",
       "        [0.79226863],\n",
       "        [0.79728148],\n",
       "        [0.74462184],\n",
       "        [0.77460817],\n",
       "        [0.84031329],\n",
       "        [0.83915866],\n",
       "        [0.81069731],\n",
       "        [0.82111481],\n",
       "        [0.86972909],\n",
       "        [0.91806465],\n",
       "        [0.90461152],\n",
       "        [0.91896789]]), (100, 20, 1))"
      ]
     },
     "metadata": {
      "tags": []
     },
     "execution_count": 8
    }
   ]
  },
  {
   "cell_type": "code",
   "metadata": {
    "colab": {
     "base_uri": "https://localhost:8080/"
    },
    "id": "e_cHGX5NSpLP",
    "outputId": "4ad599a5-1e78-4651-ebf0-3550e62c2ece"
   },
   "source": [
    "y_test[-5:], y_test.shape"
   ],
   "execution_count": 9,
   "outputs": [
    {
     "output_type": "execute_result",
     "data": {
      "text/plain": [
       "(array([[0.82111481],\n",
       "        [0.86972909],\n",
       "        [0.91806465],\n",
       "        [0.90461152],\n",
       "        [0.91896789]]), (100, 1))"
      ]
     },
     "metadata": {
      "tags": []
     },
     "execution_count": 9
    }
   ]
  },
  {
   "cell_type": "markdown",
   "metadata": {
    "id": "Yhhv26c34YTW"
   },
   "source": [
    "### Model\n",
    "\n",
    "Bidirectional RNNs allows us to train on the sequence data in forward and backward (reversed) direction. In practice, this approach works well with LSTMs.\n",
    "\n",
    "The output layer has a single neuron (predicted Bitcoin price). "
   ]
  },
  {
   "cell_type": "code",
   "metadata": {
    "id": "a3dw5qTasJoy",
    "colab": {
     "base_uri": "https://localhost:8080/"
    },
    "outputId": "02e699fb-e15a-46a0-9add-5a895e99ad7c"
   },
   "source": [
    "DROPOUT = 0.1\n",
    "WINDOW_SIZE = SEQ_LEN \n",
    "\n",
    "model = keras.Sequential()\n",
    "\n",
    "model.add(Bidirectional(LSTM(WINDOW_SIZE, return_sequences=True),\n",
    "                        input_shape=(WINDOW_SIZE, X_train.shape[-1])))\n",
    "model.add(Dropout(rate=DROPOUT))\n",
    "\n",
    "model.add(Bidirectional(LSTM((WINDOW_SIZE * 2), return_sequences=True)))\n",
    "model.add(Dropout(rate=DROPOUT))\n",
    "\n",
    "model.add(Bidirectional(LSTM(WINDOW_SIZE, return_sequences=False)))\n",
    "\n",
    "model.add(Dense(units=1))\n",
    "\n",
    "model.add(Activation('linear'))\n",
    "\n",
    "model.compile(\n",
    "    loss='mean_squared_error', \n",
    "    optimizer='adam'\n",
    ")\n",
    "\n",
    "model.summary()"
   ],
   "execution_count": 10,
   "outputs": [
    {
     "output_type": "stream",
     "text": [
      "Model: \"sequential\"\n",
      "_________________________________________________________________\n",
      "Layer (type)                 Output Shape              Param #   \n",
      "=================================================================\n",
      "bidirectional (Bidirectional (None, 20, 40)            3520      \n",
      "_________________________________________________________________\n",
      "dropout (Dropout)            (None, 20, 40)            0         \n",
      "_________________________________________________________________\n",
      "bidirectional_1 (Bidirection (None, 20, 80)            25920     \n",
      "_________________________________________________________________\n",
      "dropout_1 (Dropout)          (None, 20, 80)            0         \n",
      "_________________________________________________________________\n",
      "bidirectional_2 (Bidirection (None, 40)                16160     \n",
      "_________________________________________________________________\n",
      "dense (Dense)                (None, 1)                 41        \n",
      "_________________________________________________________________\n",
      "activation (Activation)      (None, 1)                 0         \n",
      "=================================================================\n",
      "Total params: 45,641\n",
      "Trainable params: 45,641\n",
      "Non-trainable params: 0\n",
      "_________________________________________________________________\n"
     ],
     "name": "stdout"
    }
   ]
  },
  {
   "cell_type": "markdown",
   "metadata": {
    "id": "pjBan-K27L8d"
   },
   "source": [
    "### Training"
   ]
  },
  {
   "cell_type": "code",
   "metadata": {
    "id": "m1aU2xDvsvrN",
    "colab": {
     "base_uri": "https://localhost:8080/"
    },
    "outputId": "d753440f-b8af-4142-f07f-63869511795d"
   },
   "source": [
    "BATCH_SIZE = 64\n",
    "EPOCHS = 120\n",
    "\n",
    "history = model.fit(\n",
    "    X_train, \n",
    "    y_train, \n",
    "    epochs=EPOCHS, \n",
    "    batch_size=BATCH_SIZE, \n",
    "    shuffle=False,\n",
    "    validation_split=0.1\n",
    ")"
   ],
   "execution_count": 11,
   "outputs": [
    {
     "output_type": "stream",
     "text": [
      "Epoch 1/120\n",
      "27/27 [==============================] - 15s 86ms/step - loss: 0.0024 - val_loss: 0.0028\n",
      "Epoch 2/120\n",
      "27/27 [==============================] - 0s 15ms/step - loss: 0.0059 - val_loss: 5.2923e-04\n",
      "Epoch 3/120\n",
      "27/27 [==============================] - 0s 16ms/step - loss: 0.0051 - val_loss: 3.2929e-04\n",
      "Epoch 4/120\n",
      "27/27 [==============================] - 0s 15ms/step - loss: 8.6892e-04 - val_loss: 2.1012e-04\n",
      "Epoch 5/120\n",
      "27/27 [==============================] - 1s 21ms/step - loss: 5.4836e-04 - val_loss: 2.1353e-04\n",
      "Epoch 6/120\n",
      "27/27 [==============================] - 0s 15ms/step - loss: 4.4740e-04 - val_loss: 2.3007e-04\n",
      "Epoch 7/120\n",
      "27/27 [==============================] - 0s 16ms/step - loss: 4.4981e-04 - val_loss: 2.5372e-04\n",
      "Epoch 8/120\n",
      "27/27 [==============================] - 0s 16ms/step - loss: 4.8505e-04 - val_loss: 2.8632e-04\n",
      "Epoch 9/120\n",
      "27/27 [==============================] - 0s 15ms/step - loss: 5.5776e-04 - val_loss: 2.7938e-04\n",
      "Epoch 10/120\n",
      "27/27 [==============================] - 0s 15ms/step - loss: 6.9038e-04 - val_loss: 2.3731e-04\n",
      "Epoch 11/120\n",
      "27/27 [==============================] - 0s 15ms/step - loss: 7.7020e-04 - val_loss: 2.1018e-04\n",
      "Epoch 12/120\n",
      "27/27 [==============================] - 0s 16ms/step - loss: 8.3197e-04 - val_loss: 1.7871e-04\n",
      "Epoch 13/120\n",
      "27/27 [==============================] - 0s 15ms/step - loss: 8.1113e-04 - val_loss: 1.6638e-04\n",
      "Epoch 14/120\n",
      "27/27 [==============================] - 0s 15ms/step - loss: 7.3148e-04 - val_loss: 1.5294e-04\n",
      "Epoch 15/120\n",
      "27/27 [==============================] - 0s 15ms/step - loss: 7.0119e-04 - val_loss: 1.4868e-04\n",
      "Epoch 16/120\n",
      "27/27 [==============================] - 0s 15ms/step - loss: 6.0049e-04 - val_loss: 1.4235e-04\n",
      "Epoch 17/120\n",
      "27/27 [==============================] - 0s 16ms/step - loss: 5.6703e-04 - val_loss: 1.3738e-04\n",
      "Epoch 18/120\n",
      "27/27 [==============================] - 0s 15ms/step - loss: 5.3008e-04 - val_loss: 1.3000e-04\n",
      "Epoch 19/120\n",
      "27/27 [==============================] - 0s 16ms/step - loss: 5.3225e-04 - val_loss: 1.2487e-04\n",
      "Epoch 20/120\n",
      "27/27 [==============================] - 0s 15ms/step - loss: 5.4504e-04 - val_loss: 1.2320e-04\n",
      "Epoch 21/120\n",
      "27/27 [==============================] - 0s 16ms/step - loss: 5.2889e-04 - val_loss: 1.1249e-04\n",
      "Epoch 22/120\n",
      "27/27 [==============================] - 0s 16ms/step - loss: 5.4847e-04 - val_loss: 1.0845e-04\n",
      "Epoch 23/120\n",
      "27/27 [==============================] - 0s 15ms/step - loss: 5.3134e-04 - val_loss: 1.0478e-04\n",
      "Epoch 24/120\n",
      "27/27 [==============================] - 0s 15ms/step - loss: 5.3939e-04 - val_loss: 1.0084e-04\n",
      "Epoch 25/120\n",
      "27/27 [==============================] - 0s 16ms/step - loss: 5.2855e-04 - val_loss: 9.5278e-05\n",
      "Epoch 26/120\n",
      "27/27 [==============================] - 0s 17ms/step - loss: 5.4322e-04 - val_loss: 9.3957e-05\n",
      "Epoch 27/120\n",
      "27/27 [==============================] - 0s 15ms/step - loss: 5.1508e-04 - val_loss: 8.9334e-05\n",
      "Epoch 28/120\n",
      "27/27 [==============================] - 0s 15ms/step - loss: 4.9060e-04 - val_loss: 8.5904e-05\n",
      "Epoch 29/120\n",
      "27/27 [==============================] - 0s 15ms/step - loss: 4.7897e-04 - val_loss: 8.4370e-05\n",
      "Epoch 30/120\n",
      "27/27 [==============================] - 0s 15ms/step - loss: 4.4216e-04 - val_loss: 8.4014e-05\n",
      "Epoch 31/120\n",
      "27/27 [==============================] - 0s 16ms/step - loss: 4.5575e-04 - val_loss: 7.9404e-05\n",
      "Epoch 32/120\n",
      "27/27 [==============================] - 0s 16ms/step - loss: 4.5125e-04 - val_loss: 7.8085e-05\n",
      "Epoch 33/120\n",
      "27/27 [==============================] - 0s 16ms/step - loss: 4.4258e-04 - val_loss: 7.6242e-05\n",
      "Epoch 34/120\n",
      "27/27 [==============================] - 0s 16ms/step - loss: 4.3667e-04 - val_loss: 7.4785e-05\n",
      "Epoch 35/120\n",
      "27/27 [==============================] - 0s 17ms/step - loss: 4.0998e-04 - val_loss: 7.1358e-05\n",
      "Epoch 36/120\n",
      "27/27 [==============================] - 0s 16ms/step - loss: 4.0937e-04 - val_loss: 7.0466e-05\n",
      "Epoch 37/120\n",
      "27/27 [==============================] - 0s 15ms/step - loss: 3.6561e-04 - val_loss: 6.8686e-05\n",
      "Epoch 38/120\n",
      "27/27 [==============================] - 0s 15ms/step - loss: 3.6256e-04 - val_loss: 6.6482e-05\n",
      "Epoch 39/120\n",
      "27/27 [==============================] - 0s 15ms/step - loss: 3.7124e-04 - val_loss: 6.6060e-05\n",
      "Epoch 40/120\n",
      "27/27 [==============================] - 0s 15ms/step - loss: 3.5460e-04 - val_loss: 6.4562e-05\n",
      "Epoch 41/120\n",
      "27/27 [==============================] - 0s 15ms/step - loss: 3.4777e-04 - val_loss: 6.4139e-05\n",
      "Epoch 42/120\n",
      "27/27 [==============================] - 0s 16ms/step - loss: 3.6241e-04 - val_loss: 6.3335e-05\n",
      "Epoch 43/120\n",
      "27/27 [==============================] - 0s 16ms/step - loss: 3.6779e-04 - val_loss: 6.3292e-05\n",
      "Epoch 44/120\n",
      "27/27 [==============================] - 0s 16ms/step - loss: 3.6599e-04 - val_loss: 6.0556e-05\n",
      "Epoch 45/120\n",
      "27/27 [==============================] - 0s 17ms/step - loss: 3.7167e-04 - val_loss: 6.0494e-05\n",
      "Epoch 46/120\n",
      "27/27 [==============================] - 0s 15ms/step - loss: 3.5262e-04 - val_loss: 5.9668e-05\n",
      "Epoch 47/120\n",
      "27/27 [==============================] - 0s 16ms/step - loss: 3.6045e-04 - val_loss: 5.8393e-05\n",
      "Epoch 48/120\n",
      "27/27 [==============================] - 0s 18ms/step - loss: 3.9065e-04 - val_loss: 5.8019e-05\n",
      "Epoch 49/120\n",
      "27/27 [==============================] - 0s 15ms/step - loss: 3.5912e-04 - val_loss: 5.7766e-05\n",
      "Epoch 50/120\n",
      "27/27 [==============================] - 0s 16ms/step - loss: 3.2289e-04 - val_loss: 5.7445e-05\n",
      "Epoch 51/120\n",
      "27/27 [==============================] - 0s 15ms/step - loss: 3.2009e-04 - val_loss: 5.4775e-05\n",
      "Epoch 52/120\n",
      "27/27 [==============================] - 0s 15ms/step - loss: 3.0293e-04 - val_loss: 5.4502e-05\n",
      "Epoch 53/120\n",
      "27/27 [==============================] - 0s 15ms/step - loss: 2.9336e-04 - val_loss: 5.6549e-05\n",
      "Epoch 54/120\n",
      "27/27 [==============================] - 0s 16ms/step - loss: 2.9219e-04 - val_loss: 5.4682e-05\n",
      "Epoch 55/120\n",
      "27/27 [==============================] - 0s 15ms/step - loss: 3.0403e-04 - val_loss: 5.2072e-05\n",
      "Epoch 56/120\n",
      "27/27 [==============================] - 0s 16ms/step - loss: 3.3760e-04 - val_loss: 5.2982e-05\n",
      "Epoch 57/120\n",
      "27/27 [==============================] - 0s 15ms/step - loss: 3.4620e-04 - val_loss: 5.1765e-05\n",
      "Epoch 58/120\n",
      "27/27 [==============================] - 0s 15ms/step - loss: 3.2035e-04 - val_loss: 5.3440e-05\n",
      "Epoch 59/120\n",
      "27/27 [==============================] - 0s 16ms/step - loss: 3.3094e-04 - val_loss: 5.0353e-05\n",
      "Epoch 60/120\n",
      "27/27 [==============================] - 0s 16ms/step - loss: 3.5099e-04 - val_loss: 4.9393e-05\n",
      "Epoch 61/120\n",
      "27/27 [==============================] - 0s 16ms/step - loss: 3.6809e-04 - val_loss: 4.8545e-05\n",
      "Epoch 62/120\n",
      "27/27 [==============================] - 0s 16ms/step - loss: 3.5721e-04 - val_loss: 4.8119e-05\n",
      "Epoch 63/120\n",
      "27/27 [==============================] - 0s 17ms/step - loss: 3.0908e-04 - val_loss: 4.9434e-05\n",
      "Epoch 64/120\n",
      "27/27 [==============================] - 0s 18ms/step - loss: 3.0645e-04 - val_loss: 4.7629e-05\n",
      "Epoch 65/120\n",
      "27/27 [==============================] - 1s 19ms/step - loss: 3.0090e-04 - val_loss: 4.6390e-05\n",
      "Epoch 66/120\n",
      "27/27 [==============================] - 0s 15ms/step - loss: 3.2440e-04 - val_loss: 4.5879e-05\n",
      "Epoch 67/120\n",
      "27/27 [==============================] - 0s 16ms/step - loss: 3.1770e-04 - val_loss: 4.5587e-05\n",
      "Epoch 68/120\n",
      "27/27 [==============================] - 0s 15ms/step - loss: 3.1009e-04 - val_loss: 4.5012e-05\n",
      "Epoch 69/120\n",
      "27/27 [==============================] - 1s 20ms/step - loss: 2.9882e-04 - val_loss: 4.4149e-05\n",
      "Epoch 70/120\n",
      "27/27 [==============================] - 0s 16ms/step - loss: 3.1050e-04 - val_loss: 4.3190e-05\n",
      "Epoch 71/120\n",
      "27/27 [==============================] - 0s 15ms/step - loss: 2.9418e-04 - val_loss: 4.2086e-05\n",
      "Epoch 72/120\n",
      "27/27 [==============================] - 0s 15ms/step - loss: 2.7022e-04 - val_loss: 4.4828e-05\n",
      "Epoch 73/120\n",
      "27/27 [==============================] - 0s 15ms/step - loss: 2.2260e-04 - val_loss: 4.1701e-05\n",
      "Epoch 74/120\n",
      "27/27 [==============================] - 0s 15ms/step - loss: 2.2525e-04 - val_loss: 4.3866e-05\n",
      "Epoch 75/120\n",
      "27/27 [==============================] - 0s 16ms/step - loss: 2.3058e-04 - val_loss: 4.4783e-05\n",
      "Epoch 76/120\n",
      "27/27 [==============================] - 0s 15ms/step - loss: 2.4868e-04 - val_loss: 4.1977e-05\n",
      "Epoch 77/120\n",
      "27/27 [==============================] - 0s 15ms/step - loss: 2.5988e-04 - val_loss: 4.5430e-05\n",
      "Epoch 78/120\n",
      "27/27 [==============================] - 0s 15ms/step - loss: 2.9425e-04 - val_loss: 4.6498e-05\n",
      "Epoch 79/120\n",
      "27/27 [==============================] - 0s 15ms/step - loss: 2.8685e-04 - val_loss: 3.9388e-05\n",
      "Epoch 80/120\n",
      "27/27 [==============================] - 0s 16ms/step - loss: 3.0422e-04 - val_loss: 4.5621e-05\n",
      "Epoch 81/120\n",
      "27/27 [==============================] - 0s 15ms/step - loss: 3.1279e-04 - val_loss: 3.9563e-05\n",
      "Epoch 82/120\n",
      "27/27 [==============================] - 0s 16ms/step - loss: 2.1774e-04 - val_loss: 3.7879e-05\n",
      "Epoch 83/120\n",
      "27/27 [==============================] - 0s 16ms/step - loss: 2.0319e-04 - val_loss: 3.7396e-05\n",
      "Epoch 84/120\n",
      "27/27 [==============================] - 0s 15ms/step - loss: 1.8825e-04 - val_loss: 3.6099e-05\n",
      "Epoch 85/120\n",
      "27/27 [==============================] - 0s 16ms/step - loss: 1.5392e-04 - val_loss: 3.9325e-05\n",
      "Epoch 86/120\n",
      "27/27 [==============================] - 0s 16ms/step - loss: 9.4018e-05 - val_loss: 4.1378e-05\n",
      "Epoch 87/120\n",
      "27/27 [==============================] - 0s 17ms/step - loss: 5.5265e-05 - val_loss: 3.8412e-05\n",
      "Epoch 88/120\n",
      "27/27 [==============================] - 0s 15ms/step - loss: 4.9941e-05 - val_loss: 3.8084e-05\n",
      "Epoch 89/120\n",
      "27/27 [==============================] - 0s 17ms/step - loss: 4.3834e-05 - val_loss: 3.5823e-05\n",
      "Epoch 90/120\n",
      "27/27 [==============================] - 0s 16ms/step - loss: 4.4043e-05 - val_loss: 3.6593e-05\n",
      "Epoch 91/120\n",
      "27/27 [==============================] - 0s 18ms/step - loss: 4.2619e-05 - val_loss: 3.0831e-05\n",
      "Epoch 92/120\n",
      "27/27 [==============================] - 0s 18ms/step - loss: 4.2602e-05 - val_loss: 3.0749e-05\n",
      "Epoch 93/120\n",
      "27/27 [==============================] - 0s 18ms/step - loss: 4.8205e-05 - val_loss: 3.1150e-05\n",
      "Epoch 94/120\n",
      "27/27 [==============================] - 0s 17ms/step - loss: 8.0829e-05 - val_loss: 3.7237e-05\n",
      "Epoch 95/120\n",
      "27/27 [==============================] - 0s 17ms/step - loss: 1.7638e-04 - val_loss: 1.0588e-04\n",
      "Epoch 96/120\n",
      "27/27 [==============================] - 0s 16ms/step - loss: 3.4142e-04 - val_loss: 9.1538e-05\n",
      "Epoch 97/120\n",
      "27/27 [==============================] - 0s 18ms/step - loss: 0.0010 - val_loss: 3.0944e-04\n",
      "Epoch 98/120\n",
      "27/27 [==============================] - 0s 17ms/step - loss: 0.0020 - val_loss: 3.3075e-04\n",
      "Epoch 99/120\n",
      "27/27 [==============================] - 0s 15ms/step - loss: 5.0294e-04 - val_loss: 4.0532e-04\n",
      "Epoch 100/120\n",
      "27/27 [==============================] - 0s 17ms/step - loss: 7.4765e-04 - val_loss: 1.4595e-04\n",
      "Epoch 101/120\n",
      "27/27 [==============================] - 0s 18ms/step - loss: 1.3736e-04 - val_loss: 1.0272e-04\n",
      "Epoch 102/120\n",
      "27/27 [==============================] - 0s 17ms/step - loss: 1.3422e-04 - val_loss: 8.9064e-05\n",
      "Epoch 103/120\n",
      "27/27 [==============================] - 0s 16ms/step - loss: 9.6319e-05 - val_loss: 9.1572e-05\n",
      "Epoch 104/120\n",
      "27/27 [==============================] - 0s 16ms/step - loss: 1.0174e-04 - val_loss: 8.6249e-05\n",
      "Epoch 105/120\n",
      "27/27 [==============================] - 0s 15ms/step - loss: 1.3732e-04 - val_loss: 9.7224e-05\n",
      "Epoch 106/120\n",
      "27/27 [==============================] - 0s 15ms/step - loss: 1.9209e-04 - val_loss: 9.1638e-05\n",
      "Epoch 107/120\n",
      "27/27 [==============================] - 0s 16ms/step - loss: 2.8709e-04 - val_loss: 7.3508e-05\n",
      "Epoch 108/120\n",
      "27/27 [==============================] - 0s 16ms/step - loss: 4.3511e-04 - val_loss: 5.2651e-05\n",
      "Epoch 109/120\n",
      "27/27 [==============================] - 0s 17ms/step - loss: 5.8652e-04 - val_loss: 4.0417e-05\n",
      "Epoch 110/120\n",
      "27/27 [==============================] - 0s 18ms/step - loss: 6.6633e-04 - val_loss: 4.5613e-05\n",
      "Epoch 111/120\n",
      "27/27 [==============================] - 0s 17ms/step - loss: 5.8834e-04 - val_loss: 6.2296e-05\n",
      "Epoch 112/120\n",
      "27/27 [==============================] - 0s 17ms/step - loss: 4.7352e-04 - val_loss: 5.7280e-05\n",
      "Epoch 113/120\n",
      "27/27 [==============================] - 0s 18ms/step - loss: 3.7924e-04 - val_loss: 4.7729e-05\n",
      "Epoch 114/120\n",
      "27/27 [==============================] - 0s 17ms/step - loss: 3.0475e-04 - val_loss: 4.1340e-05\n",
      "Epoch 115/120\n",
      "27/27 [==============================] - 0s 15ms/step - loss: 2.2016e-04 - val_loss: 3.8537e-05\n",
      "Epoch 116/120\n",
      "27/27 [==============================] - 0s 18ms/step - loss: 1.7852e-04 - val_loss: 3.5136e-05\n",
      "Epoch 117/120\n",
      "27/27 [==============================] - 0s 18ms/step - loss: 1.6153e-04 - val_loss: 3.2959e-05\n",
      "Epoch 118/120\n",
      "27/27 [==============================] - 0s 18ms/step - loss: 1.2687e-04 - val_loss: 3.0821e-05\n",
      "Epoch 119/120\n",
      "27/27 [==============================] - 0s 17ms/step - loss: 1.2779e-04 - val_loss: 2.9568e-05\n",
      "Epoch 120/120\n",
      "27/27 [==============================] - 0s 16ms/step - loss: 1.3283e-04 - val_loss: 2.9706e-05\n"
     ],
     "name": "stdout"
    }
   ]
  },
  {
   "cell_type": "code",
   "metadata": {
    "id": "L9JumIeP40xv",
    "colab": {
     "base_uri": "https://localhost:8080/"
    },
    "outputId": "fefa31b6-f9d1-4e56-c5c4-a6c9c66140e2"
   },
   "source": [
    "model.evaluate(X_test, y_test)"
   ],
   "execution_count": 12,
   "outputs": [
    {
     "output_type": "stream",
     "text": [
      "4/4 [==============================] - 0s 8ms/step - loss: 5.8988e-04\n"
     ],
     "name": "stdout"
    },
    {
     "output_type": "execute_result",
     "data": {
      "text/plain": [
       "0.0005898816161789"
      ]
     },
     "metadata": {
      "tags": []
     },
     "execution_count": 12
    }
   ]
  },
  {
   "cell_type": "code",
   "metadata": {
    "id": "2_9ibR1e5DnQ",
    "colab": {
     "base_uri": "https://localhost:8080/",
     "height": 730
    },
    "outputId": "199da0b9-3000-4e59-88a3-52615a7f82f1"
   },
   "source": [
    "plt.figure(figsize = (18,12))\n",
    "plt.plot(history.history['loss'])\n",
    "plt.plot(history.history['val_loss'])\n",
    "plt.title('model loss')\n",
    "plt.ylabel('loss')\n",
    "plt.xlabel('epoch')\n",
    "plt.legend(['train', 'test'], loc='upper left')\n",
    "plt.show()"
   ],
   "execution_count": 13,
   "outputs": [
    {
     "output_type": "display_data",
     "data": {
      "image/png": "[encoded data removed]",
      "text/plain": [
       "<Figure size 1296x864 with 1 Axes>"
      ]
     },
     "metadata": {
      "tags": [],
      "needs_background": "light"
     }
    }
   ]
  },
  {
   "cell_type": "markdown",
   "metadata": {
    "id": "Xf9STH2D4_hP"
   },
   "source": [
    "### Prediction on Test Data"
   ]
  },
  {
   "cell_type": "code",
   "metadata": {
    "id": "Lui1XTi0xVsF",
    "colab": {
     "base_uri": "https://localhost:8080/",
     "height": 730
    },
    "outputId": "59ef5dd7-3741-4e69-d0d6-a966a13ff723"
   },
   "source": [
    "y_hat = model.predict(X_test)\n",
    "\n",
    "y_test_inverse = scaler.inverse_transform(y_test)\n",
    "y_hat_inverse = scaler.inverse_transform(y_hat)\n",
    "\n",
    "plt.figure(figsize = (18,12))\n",
    "plt.plot(y_test_inverse, label=\"Actual Price\", color='green')\n",
    "plt.plot(y_hat_inverse, label=\"Predicted Price\", color='red')\n",
    " \n",
    "plt.title('Ethereum price prediction')\n",
    "plt.xlabel('Time [days]')\n",
    "plt.ylabel('Price')\n",
    "plt.legend(loc='best')\n",
    "\n",
    "plt.show();"
   ],
   "execution_count": 14,
   "outputs": [
    {
     "output_type": "display_data",
     "data": {
      "image/png": "[encoded data removed]",
      "text/plain": [
       "<Figure size 1296x864 with 1 Axes>"
      ]
     },
     "metadata": {
      "tags": [],
      "needs_background": "light"
     }
    }
   ]
  },
  {
   "cell_type": "markdown",
   "metadata": {
    "id": "bh43lxhu8lvk"
   },
   "source": [
    "Checking some real (*y_test_inverse*) and predicted *y_hat_inverse* values"
   ]
  },
  {
   "cell_type": "code",
   "metadata": {
    "id": "ak-CiQAVz4Fw",
    "colab": {
     "base_uri": "https://localhost:8080/"
    },
    "outputId": "20709dd5-a319-495f-af7a-85c54fbcaa36"
   },
   "source": [
    "y_test_inverse[85:]"
   ],
   "execution_count": 15,
   "outputs": [
    {
     "output_type": "execute_result",
     "data": {
      "text/plain": [
       "array([[33005.76171875],\n",
       "       [32067.64257812],\n",
       "       [32289.37890625],\n",
       "       [32366.39257812],\n",
       "       [32569.84960938],\n",
       "       [30432.546875  ],\n",
       "       [31649.60546875],\n",
       "       [34316.38671875],\n",
       "       [34269.5234375 ],\n",
       "       [33114.359375  ],\n",
       "       [33537.17578125],\n",
       "       [35510.2890625 ],\n",
       "       [37472.08984375],\n",
       "       [36926.06640625],\n",
       "       [37508.75      ]])"
      ]
     },
     "metadata": {
      "tags": []
     },
     "execution_count": 15
    }
   ]
  },
  {
   "cell_type": "code",
   "metadata": {
    "id": "DGaxvOa_mjTp",
    "colab": {
     "base_uri": "https://localhost:8080/"
    },
    "outputId": "f1f19b8f-ae35-451e-eeea-b44e8ffbd597"
   },
   "source": [
    "y_hat_inverse[85:]"
   ],
   "execution_count": 16,
   "outputs": [
    {
     "output_type": "execute_result",
     "data": {
      "text/plain": [
       "array([[33645.33 ],\n",
       "       [32786.13 ],\n",
       "       [32362.46 ],\n",
       "       [32277.105],\n",
       "       [32472.479],\n",
       "       [31861.88 ],\n",
       "       [31832.814],\n",
       "       [33051.492],\n",
       "       [34134.   ],\n",
       "       [34327.89 ],\n",
       "       [34382.18 ],\n",
       "       [35189.094],\n",
       "       [36679.637],\n",
       "       [37522.58 ],\n",
       "       [38152.11 ]], dtype=float32)"
      ]
     },
     "metadata": {
      "tags": []
     },
     "execution_count": 16
    }
   ]
  },
  {
   "cell_type": "code",
   "metadata": {
    "id": "w_zHO4Cer89M",
    "colab": {
     "base_uri": "https://localhost:8080/",
     "height": 514
    },
    "outputId": "5d4f2b86-0b94-4f86-fea5-ca0b4d0f38c3"
   },
   "source": [
    "df.tail(15)"
   ],
   "execution_count": 17,
   "outputs": [
    {
     "output_type": "execute_result",
     "data": {
      "text/html": [
       "<div>\n",
       "<style scoped>\n",
       "    .dataframe tbody tr th:only-of-type {\n",
       "        vertical-align: middle;\n",
       "    }\n",
       "\n",
       "    .dataframe tbody tr th {\n",
       "        vertical-align: top;\n",
       "    }\n",
       "\n",
       "    .dataframe thead th {\n",
       "        text-align: right;\n",
       "    }\n",
       "</style>\n",
       "<table border=\"1\" class=\"dataframe\">\n",
       "  <thead>\n",
       "    <tr style=\"text-align: right;\">\n",
       "      <th></th>\n",
       "      <th>Date</th>\n",
       "      <th>Open</th>\n",
       "      <th>High</th>\n",
       "      <th>Low</th>\n",
       "      <th>Close</th>\n",
       "      <th>Adj Close</th>\n",
       "      <th>Volume</th>\n",
       "    </tr>\n",
       "  </thead>\n",
       "  <tbody>\n",
       "    <tr>\n",
       "      <th>1991</th>\n",
       "      <td>2021-01-22</td>\n",
       "      <td>30817.625000</td>\n",
       "      <td>33811.851562</td>\n",
       "      <td>28953.373047</td>\n",
       "      <td>33005.761719</td>\n",
       "      <td>33005.761719</td>\n",
       "      <td>77207272511</td>\n",
       "    </tr>\n",
       "    <tr>\n",
       "      <th>1992</th>\n",
       "      <td>2021-01-23</td>\n",
       "      <td>32985.757812</td>\n",
       "      <td>33360.976562</td>\n",
       "      <td>31493.160156</td>\n",
       "      <td>32067.642578</td>\n",
       "      <td>32067.642578</td>\n",
       "      <td>48354737975</td>\n",
       "    </tr>\n",
       "    <tr>\n",
       "      <th>1993</th>\n",
       "      <td>2021-01-24</td>\n",
       "      <td>32064.376953</td>\n",
       "      <td>32944.007812</td>\n",
       "      <td>31106.685547</td>\n",
       "      <td>32289.378906</td>\n",
       "      <td>32289.378906</td>\n",
       "      <td>48643830599</td>\n",
       "    </tr>\n",
       "    <tr>\n",
       "      <th>1994</th>\n",
       "      <td>2021-01-25</td>\n",
       "      <td>32285.798828</td>\n",
       "      <td>34802.742188</td>\n",
       "      <td>32087.787109</td>\n",
       "      <td>32366.392578</td>\n",
       "      <td>32366.392578</td>\n",
       "      <td>59897054838</td>\n",
       "    </tr>\n",
       "    <tr>\n",
       "      <th>1995</th>\n",
       "      <td>2021-01-26</td>\n",
       "      <td>32358.613281</td>\n",
       "      <td>32794.550781</td>\n",
       "      <td>31030.265625</td>\n",
       "      <td>32569.849609</td>\n",
       "      <td>32569.849609</td>\n",
       "      <td>60255421470</td>\n",
       "    </tr>\n",
       "    <tr>\n",
       "      <th>1996</th>\n",
       "      <td>2021-01-27</td>\n",
       "      <td>32564.029297</td>\n",
       "      <td>32564.029297</td>\n",
       "      <td>29367.138672</td>\n",
       "      <td>30432.546875</td>\n",
       "      <td>30432.546875</td>\n",
       "      <td>62576762015</td>\n",
       "    </tr>\n",
       "    <tr>\n",
       "      <th>1997</th>\n",
       "      <td>2021-01-28</td>\n",
       "      <td>30441.041016</td>\n",
       "      <td>31891.300781</td>\n",
       "      <td>30023.207031</td>\n",
       "      <td>31649.605469</td>\n",
       "      <td>31649.605469</td>\n",
       "      <td>78948162368</td>\n",
       "    </tr>\n",
       "    <tr>\n",
       "      <th>1998</th>\n",
       "      <td>2021-01-29</td>\n",
       "      <td>34318.671875</td>\n",
       "      <td>38406.261719</td>\n",
       "      <td>32064.814453</td>\n",
       "      <td>34316.386719</td>\n",
       "      <td>34316.386719</td>\n",
       "      <td>117894572511</td>\n",
       "    </tr>\n",
       "    <tr>\n",
       "      <th>1999</th>\n",
       "      <td>2021-01-30</td>\n",
       "      <td>34295.933594</td>\n",
       "      <td>34834.707031</td>\n",
       "      <td>32940.187500</td>\n",
       "      <td>34269.523438</td>\n",
       "      <td>34269.523438</td>\n",
       "      <td>65141828798</td>\n",
       "    </tr>\n",
       "    <tr>\n",
       "      <th>2000</th>\n",
       "      <td>2021-01-31</td>\n",
       "      <td>34270.878906</td>\n",
       "      <td>34288.332031</td>\n",
       "      <td>32270.175781</td>\n",
       "      <td>33114.359375</td>\n",
       "      <td>33114.359375</td>\n",
       "      <td>52754542671</td>\n",
       "    </tr>\n",
       "    <tr>\n",
       "      <th>2001</th>\n",
       "      <td>2021-02-01</td>\n",
       "      <td>33114.578125</td>\n",
       "      <td>34638.214844</td>\n",
       "      <td>32384.228516</td>\n",
       "      <td>33537.175781</td>\n",
       "      <td>33537.175781</td>\n",
       "      <td>61400400660</td>\n",
       "    </tr>\n",
       "    <tr>\n",
       "      <th>2002</th>\n",
       "      <td>2021-02-02</td>\n",
       "      <td>33533.199219</td>\n",
       "      <td>35896.882812</td>\n",
       "      <td>33489.218750</td>\n",
       "      <td>35510.289062</td>\n",
       "      <td>35510.289062</td>\n",
       "      <td>63088585433</td>\n",
       "    </tr>\n",
       "    <tr>\n",
       "      <th>2003</th>\n",
       "      <td>2021-02-03</td>\n",
       "      <td>35510.820312</td>\n",
       "      <td>37480.187500</td>\n",
       "      <td>35443.984375</td>\n",
       "      <td>37472.089844</td>\n",
       "      <td>37472.089844</td>\n",
       "      <td>61166818159</td>\n",
       "    </tr>\n",
       "    <tr>\n",
       "      <th>2004</th>\n",
       "      <td>2021-02-04</td>\n",
       "      <td>37475.105469</td>\n",
       "      <td>38592.175781</td>\n",
       "      <td>36317.500000</td>\n",
       "      <td>36926.066406</td>\n",
       "      <td>36926.066406</td>\n",
       "      <td>68838074392</td>\n",
       "    </tr>\n",
       "    <tr>\n",
       "      <th>2005</th>\n",
       "      <td>2021-02-05</td>\n",
       "      <td>37506.859375</td>\n",
       "      <td>37672.152344</td>\n",
       "      <td>36698.078125</td>\n",
       "      <td>37508.750000</td>\n",
       "      <td>37508.750000</td>\n",
       "      <td>63528402944</td>\n",
       "    </tr>\n",
       "  </tbody>\n",
       "</table>\n",
       "</div>"
      ],
      "text/plain": [
       "           Date          Open  ...     Adj Close        Volume\n",
       "1991 2021-01-22  30817.625000  ...  33005.761719   77207272511\n",
       "1992 2021-01-23  32985.757812  ...  32067.642578   48354737975\n",
       "1993 2021-01-24  32064.376953  ...  32289.378906   48643830599\n",
       "1994 2021-01-25  32285.798828  ...  32366.392578   59897054838\n",
       "1995 2021-01-26  32358.613281  ...  32569.849609   60255421470\n",
       "1996 2021-01-27  32564.029297  ...  30432.546875   62576762015\n",
       "1997 2021-01-28  30441.041016  ...  31649.605469   78948162368\n",
       "1998 2021-01-29  34318.671875  ...  34316.386719  117894572511\n",
       "1999 2021-01-30  34295.933594  ...  34269.523438   65141828798\n",
       "2000 2021-01-31  34270.878906  ...  33114.359375   52754542671\n",
       "2001 2021-02-01  33114.578125  ...  33537.175781   61400400660\n",
       "2002 2021-02-02  33533.199219  ...  35510.289062   63088585433\n",
       "2003 2021-02-03  35510.820312  ...  37472.089844   61166818159\n",
       "2004 2021-02-04  37475.105469  ...  36926.066406   68838074392\n",
       "2005 2021-02-05  37506.859375  ...  37508.750000   63528402944\n",
       "\n",
       "[15 rows x 7 columns]"
      ]
     },
     "metadata": {
      "tags": []
     },
     "execution_count": 17
    }
   ]
  },
  {
   "cell_type": "markdown",
   "metadata": {
    "id": "hDzyf5nW87yM"
   },
   "source": [
    "### Now, predicting into the future.\n",
    "\n",
    "Since 20 values are predicting the next one and there is no value for tomorrow to make prediction upon, I'm gonna make an artificial dummy values for that. I'm making a new sequence, where the last value will be repeated twice (inserting a dummy data) : if the last value for today is *[0.94239681]*, then this value will be set for tomorrow\n",
    "\n",
    "Prediction array will be : pred_array\n",
    "\n",
    "Target arrays will be:  targ_array"
   ]
  },
  {
   "cell_type": "code",
   "metadata": {
    "id": "1XYI84TV6hyg"
   },
   "source": [
    "def get_prediction_array(X):\n",
    "  \"\"\"\n",
    "  Inserts an other array to the end of the whole_data sequence in order to make\n",
    "  array for predicting tomorrow's value\n",
    "\n",
    "  returns: array of shape (None, 20, 1)\n",
    "  \"\"\"\n",
    "  next = len(X)\n",
    "  a = np.insert(X,[next],X[next-1], axis=0)\n",
    "  for i_ in range(len(a[100]) - 1):\n",
    "    if(i_ == 20):\n",
    "      a[next][i_][0] == a[next][i_ - 1][0]\n",
    "    else:\n",
    "      a[next][i_][0] = a[next][i_ + 1][0]\n",
    "  \n",
    "  return a"
   ],
   "execution_count": 18,
   "outputs": []
  },
  {
   "cell_type": "code",
   "metadata": {
    "colab": {
     "base_uri": "https://localhost:8080/"
    },
    "id": "r2wyFDS4-Sw0",
    "outputId": "0c990fba-f8a8-41ca-b4ef-d1d93149b802"
   },
   "source": [
    "pred_array = get_prediction_array(whole_data)\n",
    "pred_array.shape"
   ],
   "execution_count": 19,
   "outputs": [
    {
     "output_type": "execute_result",
     "data": {
      "text/plain": [
       "(1988, 20, 1)"
      ]
     },
     "metadata": {
      "tags": []
     },
     "execution_count": 19
    }
   ]
  },
  {
   "cell_type": "code",
   "metadata": {
    "colab": {
     "base_uri": "https://localhost:8080/"
    },
    "id": "QtLnN-anwiDO",
    "outputId": "bb552394-fee5-4d90-ee76-d9d0f6bdbc73"
   },
   "source": [
    "pred_array[-2:], pred_array.shape"
   ],
   "execution_count": 20,
   "outputs": [
    {
     "output_type": "execute_result",
     "data": {
      "text/plain": [
       "(array([[[0.87665218],\n",
       "         [0.89731876],\n",
       "         [0.88351464],\n",
       "         [0.87065207],\n",
       "         [0.75430847],\n",
       "         [0.80802164],\n",
       "         [0.78490792],\n",
       "         [0.79037114],\n",
       "         [0.79226863],\n",
       "         [0.79728148],\n",
       "         [0.74462184],\n",
       "         [0.77460817],\n",
       "         [0.84031329],\n",
       "         [0.83915866],\n",
       "         [0.81069731],\n",
       "         [0.82111481],\n",
       "         [0.86972909],\n",
       "         [0.91806465],\n",
       "         [0.90461152],\n",
       "         [0.91896789]],\n",
       " \n",
       "        [[0.89731876],\n",
       "         [0.88351464],\n",
       "         [0.87065207],\n",
       "         [0.75430847],\n",
       "         [0.80802164],\n",
       "         [0.78490792],\n",
       "         [0.79037114],\n",
       "         [0.79226863],\n",
       "         [0.79728148],\n",
       "         [0.74462184],\n",
       "         [0.77460817],\n",
       "         [0.84031329],\n",
       "         [0.83915866],\n",
       "         [0.81069731],\n",
       "         [0.82111481],\n",
       "         [0.86972909],\n",
       "         [0.91806465],\n",
       "         [0.90461152],\n",
       "         [0.91896789],\n",
       "         [0.91896789]]]), (1988, 20, 1))"
      ]
     },
     "metadata": {
      "tags": []
     },
     "execution_count": 20
    }
   ]
  },
  {
   "cell_type": "code",
   "metadata": {
    "colab": {
     "base_uri": "https://localhost:8080/"
    },
    "id": "vmPy73FA5nhr",
    "outputId": "6717c9c3-965e-4907-998c-a146980f8395"
   },
   "source": [
    "targ_array = get_prediction_array(whole_targets)\n",
    "targ_array.shape "
   ],
   "execution_count": 21,
   "outputs": [
    {
     "output_type": "execute_result",
     "data": {
      "text/plain": [
       "(1988, 1)"
      ]
     },
     "metadata": {
      "tags": []
     },
     "execution_count": 21
    }
   ]
  },
  {
   "cell_type": "code",
   "metadata": {
    "colab": {
     "base_uri": "https://localhost:8080/",
     "height": 730
    },
    "id": "ceC-sgbDp2iL",
    "outputId": "828b7afe-a56a-4bb1-dede-f522b5b75ac1"
   },
   "source": [
    "y_hat = model.predict(pred_array)\n",
    "\n",
    "y_true_inverse = scaler.inverse_transform(targ_array)\n",
    "y_hat_inverse = scaler.inverse_transform(y_hat)\n",
    "\n",
    "plt.figure(figsize = (18,12))\n",
    "plt.plot(y_true_inverse, label=\"Actual Price\", color='green')\n",
    "plt.plot(y_hat_inverse, label=\"Predicted Price\", color='red')\n",
    " \n",
    "plt.title('Ethereum price prediction')\n",
    "plt.xlabel('Time')\n",
    "plt.ylabel('Price')\n",
    "plt.legend(loc='best')\n",
    " \n",
    "plt.show();"
   ],
   "execution_count": 22,
   "outputs": [
    {
     "output_type": "display_data",
     "data": {
      "image/png": "[encoded data removed]",
      "text/plain": [
       "<Figure size 1296x864 with 1 Axes>"
      ]
     },
     "metadata": {
      "tags": [],
      "needs_background": "light"
     }
    }
   ]
  },
  {
   "cell_type": "code",
   "metadata": {
    "id": "d6bLX-8d_Qx1",
    "colab": {
     "base_uri": "https://localhost:8080/"
    },
    "outputId": "a4b8305d-4242-47c8-ee70-40117258349c"
   },
   "source": [
    "print('Predicted Ethereum price for the next day: {} and predicted Ethereum price for the next day: {}'.format(y_hat_inverse[-1], y_true_inverse[-1]))"
   ],
   "execution_count": 23,
   "outputs": [
    {
     "output_type": "stream",
     "text": [
      "Predicted Ethereum price for the next day: [38445.3] and predicted Ethereum price for the next day: [37508.75]\n"
     ],
     "name": "stdout"
    }
   ]
  },
  {
   "cell_type": "markdown",
   "metadata": {
    "id": "K2jMNYQlUFcx"
   },
   "source": [
    "### Making a dataset of data-predicted-true values\n",
    "\n",
    "\n",
    "**NOTE** - prediction starts from 20th **(SEQ_LEN)** day from *2015-08-07* (the first day data was received inf DF from).\n",
    "This means, that the first *SEQ_LEN = 20* values do not have any prediction at all"
   ]
  },
  {
   "cell_type": "code",
   "metadata": {
    "id": "AbZscwlmvkpM"
   },
   "source": [
    "# number of rows in DF\n",
    "num_data_points = df.index.stop\n",
    "# where the sequence prediction started from\n",
    "started_ = num_data_points - len(y_true_inverse) + 1"
   ],
   "execution_count": 24,
   "outputs": []
  },
  {
   "cell_type": "code",
   "metadata": {
    "id": "Lj5XO7ds4u9I",
    "colab": {
     "base_uri": "https://localhost:8080/"
    },
    "outputId": "698d358a-bdba-47de-d711-44314fde3fe4"
   },
   "source": [
    "tomorrow = date.today() + timedelta(days=1)\n",
    "tomorrow = tomorrow.strftime('%Y-%m-%d')\n",
    "\n",
    "ds = []\n",
    "\n",
    "for i_ in df.Date[started_:]:\n",
    "  ds.append(i_.strftime('%Y-%m-%d'))\n",
    "\n",
    "ds.append(tomorrow)\n",
    "\n",
    "print(len(ds), ds[-2:])"
   ],
   "execution_count": 25,
   "outputs": [
    {
     "output_type": "stream",
     "text": [
      "1988 ['2021-02-05', '2021-02-06']\n"
     ],
     "name": "stdout"
    }
   ]
  },
  {
   "cell_type": "markdown",
   "metadata": {
    "id": "WXMH9_mEiZlX"
   },
   "source": [
    "### Last *true* value in **forecast** DataFrame is set to zero"
   ]
  },
  {
   "cell_type": "code",
   "metadata": {
    "id": "B3ZK4odx4vYq",
    "colab": {
     "base_uri": "https://localhost:8080/",
     "height": 419
    },
    "outputId": "8454a92e-b35b-4c05-d781-4e6a73899599"
   },
   "source": [
    "y_true = y_true_inverse.reshape(len(y_true_inverse),)\n",
    "y_true[-1] = 0\n",
    "y_pred = y_hat_inverse.reshape(len(y_hat_inverse),)\n",
    "\n",
    "d = {\"ds\": ds, \"true\": y_true, 'pred' : y_pred}\n",
    "forecast = pd.DataFrame(d)\n",
    "forecast"
   ],
   "execution_count": 26,
   "outputs": [
    {
     "output_type": "execute_result",
     "data": {
      "text/html": [
       "<div>\n",
       "<style scoped>\n",
       "    .dataframe tbody tr th:only-of-type {\n",
       "        vertical-align: middle;\n",
       "    }\n",
       "\n",
       "    .dataframe tbody tr th {\n",
       "        vertical-align: top;\n",
       "    }\n",
       "\n",
       "    .dataframe thead th {\n",
       "        text-align: right;\n",
       "    }\n",
       "</style>\n",
       "<table border=\"1\" class=\"dataframe\">\n",
       "  <thead>\n",
       "    <tr style=\"text-align: right;\">\n",
       "      <th></th>\n",
       "      <th>ds</th>\n",
       "      <th>true</th>\n",
       "      <th>pred</th>\n",
       "    </tr>\n",
       "  </thead>\n",
       "  <tbody>\n",
       "    <tr>\n",
       "      <th>0</th>\n",
       "      <td>2015-08-26</td>\n",
       "      <td>225.830994</td>\n",
       "      <td>708.260620</td>\n",
       "    </tr>\n",
       "    <tr>\n",
       "      <th>1</th>\n",
       "      <td>2015-08-27</td>\n",
       "      <td>224.768997</td>\n",
       "      <td>708.061646</td>\n",
       "    </tr>\n",
       "    <tr>\n",
       "      <th>2</th>\n",
       "      <td>2015-08-28</td>\n",
       "      <td>231.395996</td>\n",
       "      <td>709.098572</td>\n",
       "    </tr>\n",
       "    <tr>\n",
       "      <th>3</th>\n",
       "      <td>2015-08-29</td>\n",
       "      <td>229.779999</td>\n",
       "      <td>709.938599</td>\n",
       "    </tr>\n",
       "    <tr>\n",
       "      <th>4</th>\n",
       "      <td>2015-08-30</td>\n",
       "      <td>228.761002</td>\n",
       "      <td>710.415527</td>\n",
       "    </tr>\n",
       "    <tr>\n",
       "      <th>...</th>\n",
       "      <td>...</td>\n",
       "      <td>...</td>\n",
       "      <td>...</td>\n",
       "    </tr>\n",
       "    <tr>\n",
       "      <th>1983</th>\n",
       "      <td>2021-02-02</td>\n",
       "      <td>35510.289062</td>\n",
       "      <td>35189.097656</td>\n",
       "    </tr>\n",
       "    <tr>\n",
       "      <th>1984</th>\n",
       "      <td>2021-02-03</td>\n",
       "      <td>37472.089844</td>\n",
       "      <td>36679.636719</td>\n",
       "    </tr>\n",
       "    <tr>\n",
       "      <th>1985</th>\n",
       "      <td>2021-02-04</td>\n",
       "      <td>36926.066406</td>\n",
       "      <td>37522.578125</td>\n",
       "    </tr>\n",
       "    <tr>\n",
       "      <th>1986</th>\n",
       "      <td>2021-02-05</td>\n",
       "      <td>37508.750000</td>\n",
       "      <td>38152.109375</td>\n",
       "    </tr>\n",
       "    <tr>\n",
       "      <th>1987</th>\n",
       "      <td>2021-02-06</td>\n",
       "      <td>0.000000</td>\n",
       "      <td>38445.300781</td>\n",
       "    </tr>\n",
       "  </tbody>\n",
       "</table>\n",
       "<p>1988 rows × 3 columns</p>\n",
       "</div>"
      ],
      "text/plain": [
       "              ds          true          pred\n",
       "0     2015-08-26    225.830994    708.260620\n",
       "1     2015-08-27    224.768997    708.061646\n",
       "2     2015-08-28    231.395996    709.098572\n",
       "3     2015-08-29    229.779999    709.938599\n",
       "4     2015-08-30    228.761002    710.415527\n",
       "...          ...           ...           ...\n",
       "1983  2021-02-02  35510.289062  35189.097656\n",
       "1984  2021-02-03  37472.089844  36679.636719\n",
       "1985  2021-02-04  36926.066406  37522.578125\n",
       "1986  2021-02-05  37508.750000  38152.109375\n",
       "1987  2021-02-06      0.000000  38445.300781\n",
       "\n",
       "[1988 rows x 3 columns]"
      ]
     },
     "metadata": {
      "tags": []
     },
     "execution_count": 26
    }
   ]
  },
  {
   "cell_type": "code",
   "metadata": {
    "id": "yrluCZb44vn_",
    "colab": {
     "base_uri": "https://localhost:8080/",
     "height": 419
    },
    "outputId": "4454853a-ee90-4220-beea-23f76f8200a3"
   },
   "source": [
    "df"
   ],
   "execution_count": 27,
   "outputs": [
    {
     "output_type": "execute_result",
     "data": {
      "text/html": [
       "<div>\n",
       "<style scoped>\n",
       "    .dataframe tbody tr th:only-of-type {\n",
       "        vertical-align: middle;\n",
       "    }\n",
       "\n",
       "    .dataframe tbody tr th {\n",
       "        vertical-align: top;\n",
       "    }\n",
       "\n",
       "    .dataframe thead th {\n",
       "        text-align: right;\n",
       "    }\n",
       "</style>\n",
       "<table border=\"1\" class=\"dataframe\">\n",
       "  <thead>\n",
       "    <tr style=\"text-align: right;\">\n",
       "      <th></th>\n",
       "      <th>Date</th>\n",
       "      <th>Open</th>\n",
       "      <th>High</th>\n",
       "      <th>Low</th>\n",
       "      <th>Close</th>\n",
       "      <th>Adj Close</th>\n",
       "      <th>Volume</th>\n",
       "    </tr>\n",
       "  </thead>\n",
       "  <tbody>\n",
       "    <tr>\n",
       "      <th>0</th>\n",
       "      <td>2015-08-07</td>\n",
       "      <td>278.740997</td>\n",
       "      <td>280.391998</td>\n",
       "      <td>276.365997</td>\n",
       "      <td>279.584991</td>\n",
       "      <td>279.584991</td>\n",
       "      <td>42484800</td>\n",
       "    </tr>\n",
       "    <tr>\n",
       "      <th>1</th>\n",
       "      <td>2015-08-08</td>\n",
       "      <td>279.742004</td>\n",
       "      <td>279.928009</td>\n",
       "      <td>260.709991</td>\n",
       "      <td>260.997009</td>\n",
       "      <td>260.997009</td>\n",
       "      <td>58533000</td>\n",
       "    </tr>\n",
       "    <tr>\n",
       "      <th>2</th>\n",
       "      <td>2015-08-09</td>\n",
       "      <td>261.115997</td>\n",
       "      <td>267.002991</td>\n",
       "      <td>260.467987</td>\n",
       "      <td>265.083008</td>\n",
       "      <td>265.083008</td>\n",
       "      <td>23789600</td>\n",
       "    </tr>\n",
       "    <tr>\n",
       "      <th>3</th>\n",
       "      <td>2015-08-10</td>\n",
       "      <td>265.477997</td>\n",
       "      <td>267.032013</td>\n",
       "      <td>262.596008</td>\n",
       "      <td>264.470001</td>\n",
       "      <td>264.470001</td>\n",
       "      <td>20979400</td>\n",
       "    </tr>\n",
       "    <tr>\n",
       "      <th>4</th>\n",
       "      <td>2015-08-11</td>\n",
       "      <td>264.342010</td>\n",
       "      <td>270.385986</td>\n",
       "      <td>264.093994</td>\n",
       "      <td>270.385986</td>\n",
       "      <td>270.385986</td>\n",
       "      <td>25433900</td>\n",
       "    </tr>\n",
       "    <tr>\n",
       "      <th>...</th>\n",
       "      <td>...</td>\n",
       "      <td>...</td>\n",
       "      <td>...</td>\n",
       "      <td>...</td>\n",
       "      <td>...</td>\n",
       "      <td>...</td>\n",
       "      <td>...</td>\n",
       "    </tr>\n",
       "    <tr>\n",
       "      <th>2001</th>\n",
       "      <td>2021-02-01</td>\n",
       "      <td>33114.578125</td>\n",
       "      <td>34638.214844</td>\n",
       "      <td>32384.228516</td>\n",
       "      <td>33537.175781</td>\n",
       "      <td>33537.175781</td>\n",
       "      <td>61400400660</td>\n",
       "    </tr>\n",
       "    <tr>\n",
       "      <th>2002</th>\n",
       "      <td>2021-02-02</td>\n",
       "      <td>33533.199219</td>\n",
       "      <td>35896.882812</td>\n",
       "      <td>33489.218750</td>\n",
       "      <td>35510.289062</td>\n",
       "      <td>35510.289062</td>\n",
       "      <td>63088585433</td>\n",
       "    </tr>\n",
       "    <tr>\n",
       "      <th>2003</th>\n",
       "      <td>2021-02-03</td>\n",
       "      <td>35510.820312</td>\n",
       "      <td>37480.187500</td>\n",
       "      <td>35443.984375</td>\n",
       "      <td>37472.089844</td>\n",
       "      <td>37472.089844</td>\n",
       "      <td>61166818159</td>\n",
       "    </tr>\n",
       "    <tr>\n",
       "      <th>2004</th>\n",
       "      <td>2021-02-04</td>\n",
       "      <td>37475.105469</td>\n",
       "      <td>38592.175781</td>\n",
       "      <td>36317.500000</td>\n",
       "      <td>36926.066406</td>\n",
       "      <td>36926.066406</td>\n",
       "      <td>68838074392</td>\n",
       "    </tr>\n",
       "    <tr>\n",
       "      <th>2005</th>\n",
       "      <td>2021-02-05</td>\n",
       "      <td>37506.859375</td>\n",
       "      <td>37672.152344</td>\n",
       "      <td>36698.078125</td>\n",
       "      <td>37508.750000</td>\n",
       "      <td>37508.750000</td>\n",
       "      <td>63528402944</td>\n",
       "    </tr>\n",
       "  </tbody>\n",
       "</table>\n",
       "<p>2006 rows × 7 columns</p>\n",
       "</div>"
      ],
      "text/plain": [
       "           Date          Open  ...     Adj Close       Volume\n",
       "0    2015-08-07    278.740997  ...    279.584991     42484800\n",
       "1    2015-08-08    279.742004  ...    260.997009     58533000\n",
       "2    2015-08-09    261.115997  ...    265.083008     23789600\n",
       "3    2015-08-10    265.477997  ...    264.470001     20979400\n",
       "4    2015-08-11    264.342010  ...    270.385986     25433900\n",
       "...         ...           ...  ...           ...          ...\n",
       "2001 2021-02-01  33114.578125  ...  33537.175781  61400400660\n",
       "2002 2021-02-02  33533.199219  ...  35510.289062  63088585433\n",
       "2003 2021-02-03  35510.820312  ...  37472.089844  61166818159\n",
       "2004 2021-02-04  37475.105469  ...  36926.066406  68838074392\n",
       "2005 2021-02-05  37506.859375  ...  37508.750000  63528402944\n",
       "\n",
       "[2006 rows x 7 columns]"
      ]
     },
     "metadata": {
      "tags": []
     },
     "execution_count": 27
    }
   ]
  },
  {
   "cell_type": "markdown",
   "metadata": {
    "id": "YCpVsv8KYeiq"
   },
   "source": [
    "### Saving the model\n"
   ]
  },
  {
   "cell_type": "code",
   "metadata": {
    "colab": {
     "base_uri": "https://localhost:8080/"
    },
    "id": "Oy9QnjYVyFvJ",
    "outputId": "d55209eb-381f-424c-8d53-4df24b0ff97d"
   },
   "source": [
    "file_name = 'BidirectLSTM_BTC-1f.h5'\n",
    "model.save(file_name)\n",
    "print(\"Saved model `{}` to disk\".format(file_name))"
   ],
   "execution_count": 28,
   "outputs": [
    {
     "output_type": "stream",
     "text": [
      "Saved model `BidirectLSTM_BTC-1f.h5` to disk\n"
     ],
     "name": "stdout"
    }
   ]
  },
  {
   "cell_type": "code",
   "metadata": {
    "id": "dnPKxlSpQaAr"
   },
   "source": [
    ""
   ],
   "execution_count": null,
   "outputs": []
  }
 ]
}