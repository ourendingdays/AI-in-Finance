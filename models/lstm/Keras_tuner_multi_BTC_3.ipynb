{
 "cells": [
  {
   "cell_type": "markdown",
   "metadata": {
    "id": "xnY85mGJjqZs"
   },
   "source": [
    "@author: Pavlo Mospan"
   ]
  },
  {
   "cell_type": "code",
   "execution_count": 1,
   "metadata": {
    "id": "40kP6K0J0Wct"
   },
   "outputs": [
    {
     "ename": "ModuleNotFoundError",
     "evalue": "No module named 'google.colab'",
     "output_type": "error",
     "traceback": [
      "\u001b[0;31m---------------------------------------------------------------------------\u001b[0m",
      "\u001b[0;31mModuleNotFoundError\u001b[0m                       Traceback (most recent call last)",
      "\u001b[0;32m<ipython-input-1-4996ee3d8d09>\u001b[0m in \u001b[0;36m<module>\u001b[0;34m\u001b[0m\n\u001b[0;32m----> 1\u001b[0;31m \u001b[0;32mfrom\u001b[0m \u001b[0mgoogle\u001b[0m\u001b[0;34m.\u001b[0m\u001b[0mcolab\u001b[0m \u001b[0;32mimport\u001b[0m \u001b[0mdrive\u001b[0m\u001b[0;34m\u001b[0m\u001b[0;34m\u001b[0m\u001b[0m\n\u001b[0m\u001b[1;32m      2\u001b[0m \u001b[0mdrive\u001b[0m\u001b[0;34m.\u001b[0m\u001b[0mmount\u001b[0m\u001b[0;34m(\u001b[0m\u001b[0;34m'/content/gdrive'\u001b[0m\u001b[0;34m)\u001b[0m\u001b[0;34m\u001b[0m\u001b[0;34m\u001b[0m\u001b[0m\n",
      "\u001b[0;31mModuleNotFoundError\u001b[0m: No module named 'google.colab'"
     ]
    }
   ],
   "source": [
    "from google.colab import drive\n",
    "drive.mount('/content/gdrive')"
   ]
  },
  {
   "cell_type": "markdown",
   "metadata": {
    "id": "xQZfbehi8LJ9"
   },
   "source": [
    "### All needed imports"
   ]
  },
  {
   "cell_type": "code",
   "execution_count": null,
   "metadata": {
    "id": "2Bm84Jy3gjVn"
   },
   "outputs": [],
   "source": [
    "!pip install keras-tuner\n",
    "!pip install yfinance\n",
    "\n",
    "import numpy as np\n",
    "from numpy import concatenate\n",
    "import pandas as pd\n",
    "import matplotlib.pyplot as plt\n",
    "\n",
    "from sklearn.model_selection import train_test_split\n",
    "from sklearn.preprocessing import MinMaxScaler\n",
    "\n",
    "from tensorflow.keras.models import Sequential\n",
    "from tensorflow.keras.layers import LSTM,Dense,Dropout, Activation\n",
    "import tensorflow as tf\n",
    "from tensorflow.keras.optimizers import Adam\n",
    "\n",
    "from kerastuner import HyperModel\n",
    "from kerastuner.tuners import RandomSearch\n",
    "\n",
    "from tensorflow.keras.models import load_model\n",
    "\n",
    "import yfinance as yf\n",
    "from datetime import datetime, date, timedelta"
   ]
  },
  {
   "cell_type": "markdown",
   "metadata": {
    "id": "Vd97WtyPjjNb"
   },
   "source": [
    "### Data\n",
    "\n",
    "Time series as (SP500, DXY GOLD) had some missing values (especially on Sundays, as we expected) so I chose to fill those empty values with the nearest value available in the time series. \n"
   ]
  },
  {
   "cell_type": "code",
   "execution_count": 3,
   "metadata": {
    "colab": {
     "base_uri": "https://localhost:8080/",
     "height": 487
    },
    "id": "Ag2uDDQ8gjjk",
    "outputId": "3badd015-132f-48bc-9f9a-e5e173f9d167"
   },
   "outputs": [
    {
     "name": "stdout",
     "output_type": "stream",
     "text": [
      "[*********************100%***********************]  1 of 1 completed\n",
      "[*********************100%***********************]  1 of 1 completed\n",
      "[*********************100%***********************]  1 of 1 completed\n",
      "[*********************100%***********************]  1 of 1 completed\n"
     ]
    },
    {
     "data": {
      "text/html": [
       "<div>\n",
       "<style scoped>\n",
       "    .dataframe tbody tr th:only-of-type {\n",
       "        vertical-align: middle;\n",
       "    }\n",
       "\n",
       "    .dataframe tbody tr th {\n",
       "        vertical-align: top;\n",
       "    }\n",
       "\n",
       "    .dataframe thead th {\n",
       "        text-align: right;\n",
       "    }\n",
       "</style>\n",
       "<table border=\"1\" class=\"dataframe\">\n",
       "  <thead>\n",
       "    <tr style=\"text-align: right;\">\n",
       "      <th></th>\n",
       "      <th>Close-btc</th>\n",
       "      <th>Close-sp500</th>\n",
       "      <th>Close-dxy</th>\n",
       "      <th>Close-gold</th>\n",
       "    </tr>\n",
       "  </thead>\n",
       "  <tbody>\n",
       "    <tr>\n",
       "      <th>2015-08-07</th>\n",
       "      <td>279.584991</td>\n",
       "      <td>2077.570068</td>\n",
       "      <td>97.559998</td>\n",
       "      <td>1094.099976</td>\n",
       "    </tr>\n",
       "    <tr>\n",
       "      <th>2015-08-08</th>\n",
       "      <td>260.997009</td>\n",
       "      <td>2077.570068</td>\n",
       "      <td>97.559998</td>\n",
       "      <td>1094.099976</td>\n",
       "    </tr>\n",
       "    <tr>\n",
       "      <th>2015-08-09</th>\n",
       "      <td>265.083008</td>\n",
       "      <td>2104.179932</td>\n",
       "      <td>97.160004</td>\n",
       "      <td>1104.199951</td>\n",
       "    </tr>\n",
       "    <tr>\n",
       "      <th>2015-08-10</th>\n",
       "      <td>264.470001</td>\n",
       "      <td>2104.179932</td>\n",
       "      <td>97.160004</td>\n",
       "      <td>1104.199951</td>\n",
       "    </tr>\n",
       "    <tr>\n",
       "      <th>2015-08-11</th>\n",
       "      <td>270.385986</td>\n",
       "      <td>2084.070068</td>\n",
       "      <td>97.290001</td>\n",
       "      <td>1107.599976</td>\n",
       "    </tr>\n",
       "    <tr>\n",
       "      <th>...</th>\n",
       "      <td>...</td>\n",
       "      <td>...</td>\n",
       "      <td>...</td>\n",
       "      <td>...</td>\n",
       "    </tr>\n",
       "    <tr>\n",
       "      <th>2021-01-29</th>\n",
       "      <td>34316.386719</td>\n",
       "      <td>3714.239990</td>\n",
       "      <td>90.580002</td>\n",
       "      <td>1847.300049</td>\n",
       "    </tr>\n",
       "    <tr>\n",
       "      <th>2021-01-30</th>\n",
       "      <td>34269.523438</td>\n",
       "      <td>3714.239990</td>\n",
       "      <td>90.580002</td>\n",
       "      <td>1847.300049</td>\n",
       "    </tr>\n",
       "    <tr>\n",
       "      <th>2021-01-31</th>\n",
       "      <td>33114.359375</td>\n",
       "      <td>3773.860107</td>\n",
       "      <td>91.019997</td>\n",
       "      <td>1860.800049</td>\n",
       "    </tr>\n",
       "    <tr>\n",
       "      <th>2021-02-01</th>\n",
       "      <td>33537.175781</td>\n",
       "      <td>3773.860107</td>\n",
       "      <td>91.019997</td>\n",
       "      <td>1860.800049</td>\n",
       "    </tr>\n",
       "    <tr>\n",
       "      <th>2021-02-02</th>\n",
       "      <td>35569.078125</td>\n",
       "      <td>3773.860107</td>\n",
       "      <td>91.019997</td>\n",
       "      <td>1860.800049</td>\n",
       "    </tr>\n",
       "  </tbody>\n",
       "</table>\n",
       "<p>2007 rows × 4 columns</p>\n",
       "</div>"
      ],
      "text/plain": [
       "               Close-btc  Close-sp500  Close-dxy   Close-gold\n",
       "2015-08-07    279.584991  2077.570068  97.559998  1094.099976\n",
       "2015-08-08    260.997009  2077.570068  97.559998  1094.099976\n",
       "2015-08-09    265.083008  2104.179932  97.160004  1104.199951\n",
       "2015-08-10    264.470001  2104.179932  97.160004  1104.199951\n",
       "2015-08-11    270.385986  2084.070068  97.290001  1107.599976\n",
       "...                  ...          ...        ...          ...\n",
       "2021-01-29  34316.386719  3714.239990  90.580002  1847.300049\n",
       "2021-01-30  34269.523438  3714.239990  90.580002  1847.300049\n",
       "2021-01-31  33114.359375  3773.860107  91.019997  1860.800049\n",
       "2021-02-01  33537.175781  3773.860107  91.019997  1860.800049\n",
       "2021-02-02  35569.078125  3773.860107  91.019997  1860.800049\n",
       "\n",
       "[2007 rows x 4 columns]"
      ]
     },
     "execution_count": 3,
     "metadata": {
      "tags": []
     },
     "output_type": "execute_result"
    }
   ],
   "source": [
    "today = datetime.today().strftime('%Y-%m-%d')\n",
    "start_date = '2015-08-07'\n",
    "idx = pd.date_range(start_date, today)\n",
    "\n",
    "df_A = yf.download(\"BTC-USD\", start=start_date, end=today)\n",
    "df_A = df_A[\"Close\"]\n",
    "df_A = df_A.reindex(idx, fill_value=0, method=\"nearest\")\n",
    "\n",
    "# The S&P 500 - stock market index that measures the stock performance of 500 large companies listed on stock exchanges in the US. \n",
    "df_B = yf.download(\"%5EGSPC\", start=start_date, end=today)\n",
    "df_B = df_B[\"Close\"]\n",
    "df_B = df_B.reindex(idx, fill_value=0, method=\"nearest\")\n",
    "\n",
    "# US Dollar/USDX - Index - Cash\n",
    "df_C = yf.download(\"DX-Y.NYB\", start=start_date, end=today)\n",
    "df_C = df_C[\"Close\"]\n",
    "df_C = df_C.reindex(idx, fill_value=0, method=\"nearest\")\n",
    "\n",
    "# Gold\n",
    "df_D = yf.download(\"GC=F\", start=start_date, end=today)\n",
    "df_D = df_D[\"Close\"]\n",
    "df_D = df_D.reindex(idx, fill_value=0, method=\"nearest\")\n",
    "\n",
    "timeseries=  pd.concat([df_A, df_B, df_C, df_D], axis=1)\n",
    "\n",
    "timeseries.columns=([\"Close-btc\", \"Close-sp500\", \"Close-dxy\", \"Close-gold\"])\n",
    "timeseries"
   ]
  },
  {
   "cell_type": "markdown",
   "metadata": {
    "id": "WiwMjWS68gqo"
   },
   "source": [
    "### Scaling and making Y-column of future Bitcoin values shifted for one day\n",
    "\n",
    "**Y-column** is *Close-btc-output*"
   ]
  },
  {
   "cell_type": "code",
   "execution_count": 4,
   "metadata": {
    "colab": {
     "base_uri": "https://localhost:8080/",
     "height": 419
    },
    "id": "E1y3FduOkqBz",
    "outputId": "2af927b2-4640-4ab5-aab0-e46ec45642eb"
   },
   "outputs": [
    {
     "data": {
      "text/html": [
       "<div>\n",
       "<style scoped>\n",
       "    .dataframe tbody tr th:only-of-type {\n",
       "        vertical-align: middle;\n",
       "    }\n",
       "\n",
       "    .dataframe tbody tr th {\n",
       "        vertical-align: top;\n",
       "    }\n",
       "\n",
       "    .dataframe thead th {\n",
       "        text-align: right;\n",
       "    }\n",
       "</style>\n",
       "<table border=\"1\" class=\"dataframe\">\n",
       "  <thead>\n",
       "    <tr style=\"text-align: right;\">\n",
       "      <th></th>\n",
       "      <th>Close-btc</th>\n",
       "      <th>Close-sp500</th>\n",
       "      <th>Close-dxy</th>\n",
       "      <th>Close-gold</th>\n",
       "      <th>Close-btc-output</th>\n",
       "    </tr>\n",
       "  </thead>\n",
       "  <tbody>\n",
       "    <tr>\n",
       "      <th>2015-08-07</th>\n",
       "      <td>0.001702</td>\n",
       "      <td>0.122634</td>\n",
       "      <td>0.610204</td>\n",
       "      <td>0.043270</td>\n",
       "      <td>0.001244</td>\n",
       "    </tr>\n",
       "    <tr>\n",
       "      <th>2015-08-08</th>\n",
       "      <td>0.001244</td>\n",
       "      <td>0.122634</td>\n",
       "      <td>0.610204</td>\n",
       "      <td>0.043270</td>\n",
       "      <td>0.001345</td>\n",
       "    </tr>\n",
       "    <tr>\n",
       "      <th>2015-08-09</th>\n",
       "      <td>0.001345</td>\n",
       "      <td>0.135766</td>\n",
       "      <td>0.582994</td>\n",
       "      <td>0.053363</td>\n",
       "      <td>0.001330</td>\n",
       "    </tr>\n",
       "    <tr>\n",
       "      <th>2015-08-10</th>\n",
       "      <td>0.001330</td>\n",
       "      <td>0.135766</td>\n",
       "      <td>0.582994</td>\n",
       "      <td>0.053363</td>\n",
       "      <td>0.001476</td>\n",
       "    </tr>\n",
       "    <tr>\n",
       "      <th>2015-08-11</th>\n",
       "      <td>0.001476</td>\n",
       "      <td>0.125841</td>\n",
       "      <td>0.591837</td>\n",
       "      <td>0.056760</td>\n",
       "      <td>0.001377</td>\n",
       "    </tr>\n",
       "    <tr>\n",
       "      <th>...</th>\n",
       "      <td>...</td>\n",
       "      <td>...</td>\n",
       "      <td>...</td>\n",
       "      <td>...</td>\n",
       "      <td>...</td>\n",
       "    </tr>\n",
       "    <tr>\n",
       "      <th>2021-01-29</th>\n",
       "      <td>0.840313</td>\n",
       "      <td>0.930355</td>\n",
       "      <td>0.135374</td>\n",
       "      <td>0.795943</td>\n",
       "      <td>0.839159</td>\n",
       "    </tr>\n",
       "    <tr>\n",
       "      <th>2021-01-30</th>\n",
       "      <td>0.839159</td>\n",
       "      <td>0.930355</td>\n",
       "      <td>0.135374</td>\n",
       "      <td>0.795943</td>\n",
       "      <td>0.810697</td>\n",
       "    </tr>\n",
       "    <tr>\n",
       "      <th>2021-01-31</th>\n",
       "      <td>0.810697</td>\n",
       "      <td>0.959779</td>\n",
       "      <td>0.165306</td>\n",
       "      <td>0.809433</td>\n",
       "      <td>0.821115</td>\n",
       "    </tr>\n",
       "    <tr>\n",
       "      <th>2021-02-01</th>\n",
       "      <td>0.821115</td>\n",
       "      <td>0.959779</td>\n",
       "      <td>0.165306</td>\n",
       "      <td>0.809433</td>\n",
       "      <td>0.871178</td>\n",
       "    </tr>\n",
       "    <tr>\n",
       "      <th>2021-02-02</th>\n",
       "      <td>0.871178</td>\n",
       "      <td>0.959779</td>\n",
       "      <td>0.165306</td>\n",
       "      <td>0.809433</td>\n",
       "      <td>NaN</td>\n",
       "    </tr>\n",
       "  </tbody>\n",
       "</table>\n",
       "<p>2007 rows × 5 columns</p>\n",
       "</div>"
      ],
      "text/plain": [
       "            Close-btc  Close-sp500  Close-dxy  Close-gold  Close-btc-output\n",
       "2015-08-07   0.001702     0.122634   0.610204    0.043270          0.001244\n",
       "2015-08-08   0.001244     0.122634   0.610204    0.043270          0.001345\n",
       "2015-08-09   0.001345     0.135766   0.582994    0.053363          0.001330\n",
       "2015-08-10   0.001330     0.135766   0.582994    0.053363          0.001476\n",
       "2015-08-11   0.001476     0.125841   0.591837    0.056760          0.001377\n",
       "...               ...          ...        ...         ...               ...\n",
       "2021-01-29   0.840313     0.930355   0.135374    0.795943          0.839159\n",
       "2021-01-30   0.839159     0.930355   0.135374    0.795943          0.810697\n",
       "2021-01-31   0.810697     0.959779   0.165306    0.809433          0.821115\n",
       "2021-02-01   0.821115     0.959779   0.165306    0.809433          0.871178\n",
       "2021-02-02   0.871178     0.959779   0.165306    0.809433               NaN\n",
       "\n",
       "[2007 rows x 5 columns]"
      ]
     },
     "execution_count": 4,
     "metadata": {
      "tags": []
     },
     "output_type": "execute_result"
    }
   ],
   "source": [
    "scl = MinMaxScaler()\n",
    "\n",
    "timeseries[[\"Close-btc\", \"Close-sp500\", \"Close-dxy\", \"Close-gold\"]] = scl.fit_transform(timeseries[\n",
    "                                                [\"Close-btc\", \"Close-sp500\", \"Close-dxy\", \"Close-gold\"]])\n",
    "\n",
    "timeseries[\"Close-btc-output\"] = timeseries[\"Close-btc\"]\n",
    "timeseries[\"Close-btc-output\"] = timeseries[\"Close-btc-output\"].shift(-1)\n",
    "#timeseries.drop(timeseries.tail(1).index, inplace=True)\n",
    "timeseries.loc[today, 'Close-btc-output']\n",
    "timeseries"
   ]
  },
  {
   "cell_type": "markdown",
   "metadata": {
    "id": "HFIuD-O28Ia7"
   },
   "source": [
    "#### Filling today's **Close-btc-output** value with yesterday value. This is needed for later proper prediction"
   ]
  },
  {
   "cell_type": "code",
   "execution_count": 5,
   "metadata": {
    "colab": {
     "base_uri": "https://localhost:8080/"
    },
    "id": "vIraL6ByOPLW",
    "outputId": "11f18bf4-7dba-4093-f841-77b7e65da1d7"
   },
   "outputs": [
    {
     "name": "stdout",
     "output_type": "stream",
     "text": [
      "            Close-btc  Close-sp500  Close-dxy  Close-gold  Close-btc-output\n",
      "2015-08-07   0.001702     0.122634   0.610204    0.043270          0.001244\n",
      "2015-08-08   0.001244     0.122634   0.610204    0.043270          0.001345\n",
      "2015-08-09   0.001345     0.135766   0.582994    0.053363          0.001330\n",
      "2015-08-10   0.001330     0.135766   0.582994    0.053363          0.001476\n",
      "2015-08-11   0.001476     0.125841   0.591837    0.056760          0.001377\n",
      "...               ...          ...        ...         ...               ...\n",
      "2021-01-29   0.840313     0.930355   0.135374    0.795943          0.839159\n",
      "2021-01-30   0.839159     0.930355   0.135374    0.795943          0.810697\n",
      "2021-01-31   0.810697     0.959779   0.165306    0.809433          0.821115\n",
      "2021-02-01   0.821115     0.959779   0.165306    0.809433          0.871178\n",
      "2021-02-02   0.871178     0.959779   0.165306    0.809433          0.871178\n",
      "\n",
      "[2007 rows x 5 columns]\n",
      "[[0.00170226 0.12263364 0.61020397 0.04326964 0.00124429]\n",
      " [0.00124429 0.12263364 0.61020397 0.04326964 0.00134496]\n",
      " [0.00134496 0.13576601 0.58299351 0.05336255 0.00132986]\n",
      " ...\n",
      " [0.81069731 0.95977851 0.16530609 0.80943344 0.82111481]\n",
      " [0.82111481 0.95977851 0.16530609 0.80943344 0.87117756]\n",
      " [0.87117756 0.95977851 0.16530609 0.80943344 0.87117756]]\n"
     ]
    }
   ],
   "source": [
    "yesterday = date.today() - timedelta(days=1)\n",
    "yesterday = yesterday.strftime('%Y-%m-%d')\n",
    "\n",
    "timeseries.loc[today, 'Close-btc-output'] = timeseries.loc[yesterday, 'Close-btc-output']\n",
    "timeseries\n",
    "print(timeseries)\n",
    "array = timeseries.values\n",
    "print(array)"
   ]
  },
  {
   "cell_type": "markdown",
   "metadata": {
    "id": "saDZYWQ88w-l"
   },
   "source": [
    "### Model will be predicting a future Bitcoin values based on three days before"
   ]
  },
  {
   "cell_type": "code",
   "execution_count": 6,
   "metadata": {
    "colab": {
     "base_uri": "https://localhost:8080/"
    },
    "id": "vZM-NX8Bk8Kh",
    "outputId": "d6856e1c-4365-4aeb-a63a-0ec19c737a91"
   },
   "outputs": [
    {
     "name": "stdout",
     "output_type": "stream",
     "text": [
      "Division:  21 Split is on:  1986\n"
     ]
    },
    {
     "data": {
      "text/plain": [
       "(array([[0.9142277 , 0.97753518, 0.11768727, 0.8022384 , 0.96032531],\n",
       "        [0.96032531, 0.97047789, 0.11224497, 0.79894078, 0.90213046],\n",
       "        [0.90213046, 0.95700984, 0.14897971, 0.77795547, 0.88618386],\n",
       "        [0.88618386, 0.95700984, 0.14897971, 0.77795547, 0.87665218],\n",
       "        [0.87665218, 0.97214097, 0.12993218, 0.78814829, 0.89731876],\n",
       "        [0.89731876, 0.97214097, 0.12993218, 0.78814829, 0.88351464],\n",
       "        [0.88351464, 0.97214097, 0.12993218, 0.78814829, 0.87065207],\n",
       "        [0.87065207, 0.99826776, 0.12789145, 0.81452984, 0.75430847],\n",
       "        [0.75430847, 0.99886983, 0.10476193, 0.81393029, 0.80802164],\n",
       "        [0.80802164, 0.99314501, 0.11224497, 0.80433691, 0.78490792],\n",
       "        [0.78490792, 0.99314501, 0.11224497, 0.80433691, 0.79037114],\n",
       "        [0.79037114, 1.        , 0.12244915, 0.80353754, 0.79226863],\n",
       "        [0.79226863, 1.        , 0.12244915, 0.80353754, 0.79728148],\n",
       "        [0.79728148, 0.99716723, 0.10748308, 0.7993404 , 0.74462184],\n",
       "        [0.74462184, 0.9483832 , 0.14013636, 0.79354453, 0.77460817],\n",
       "        [0.77460817, 0.96645073, 0.12721103, 0.78654943, 0.84031329],\n",
       "        [0.84031329, 0.93035508, 0.13537448, 0.79594288, 0.83915866],\n",
       "        [0.83915866, 0.93035508, 0.13537448, 0.79594288, 0.81069731],\n",
       "        [0.81069731, 0.95977851, 0.16530609, 0.80943344, 0.82111481],\n",
       "        [0.82111481, 0.95977851, 0.16530609, 0.80943344, 0.87117756],\n",
       "        [0.87117756, 0.95977851, 0.16530609, 0.80943344, 0.87117756]]),\n",
       " (21, 5))"
      ]
     },
     "execution_count": 6,
     "metadata": {
      "tags": []
     },
     "output_type": "execute_result"
    }
   ],
   "source": [
    "#number of days to take in a row before Y\n",
    "X_quantity = 3  \n",
    "mod = len(array) % X_quantity\n",
    "\n",
    "# how many predictions to make\n",
    "times = 7\n",
    "\n",
    "# deleting first-mod values to have /mod-zero array\n",
    "for i_ in range(mod):\n",
    "  array = np.delete(array, 0, 0)\n",
    "\n",
    "# for splitting into train/test\n",
    "division = X_quantity * times\n",
    "split = len(array) - division\n",
    "print('Division: ', division, 'Split is on: ', split)\n",
    "\n",
    "predict = array[split:]\n",
    "train = array[:split]\n",
    "\n",
    "predict, predict.shape"
   ]
  },
  {
   "cell_type": "markdown",
   "metadata": {
    "id": "rKxlZbNbLw7H"
   },
   "source": [
    "#### Checking if everything is alright and I didn't miss anything"
   ]
  },
  {
   "cell_type": "code",
   "execution_count": 7,
   "metadata": {
    "colab": {
     "base_uri": "https://localhost:8080/",
     "height": 700
    },
    "id": "dHb3Z_2rPqVO",
    "outputId": "dd4a8ac8-7b6c-47a1-ec8c-076a189e07fd"
   },
   "outputs": [
    {
     "data": {
      "text/html": [
       "<div>\n",
       "<style scoped>\n",
       "    .dataframe tbody tr th:only-of-type {\n",
       "        vertical-align: middle;\n",
       "    }\n",
       "\n",
       "    .dataframe tbody tr th {\n",
       "        vertical-align: top;\n",
       "    }\n",
       "\n",
       "    .dataframe thead th {\n",
       "        text-align: right;\n",
       "    }\n",
       "</style>\n",
       "<table border=\"1\" class=\"dataframe\">\n",
       "  <thead>\n",
       "    <tr style=\"text-align: right;\">\n",
       "      <th></th>\n",
       "      <th>Close-btc</th>\n",
       "      <th>Close-sp500</th>\n",
       "      <th>Close-dxy</th>\n",
       "      <th>Close-gold</th>\n",
       "      <th>Close-btc-output</th>\n",
       "    </tr>\n",
       "  </thead>\n",
       "  <tbody>\n",
       "    <tr>\n",
       "      <th>2021-01-13</th>\n",
       "      <td>0.914228</td>\n",
       "      <td>0.977535</td>\n",
       "      <td>0.117687</td>\n",
       "      <td>0.802238</td>\n",
       "      <td>0.960325</td>\n",
       "    </tr>\n",
       "    <tr>\n",
       "      <th>2021-01-14</th>\n",
       "      <td>0.960325</td>\n",
       "      <td>0.970478</td>\n",
       "      <td>0.112245</td>\n",
       "      <td>0.798941</td>\n",
       "      <td>0.902130</td>\n",
       "    </tr>\n",
       "    <tr>\n",
       "      <th>2021-01-15</th>\n",
       "      <td>0.902130</td>\n",
       "      <td>0.957010</td>\n",
       "      <td>0.148980</td>\n",
       "      <td>0.777955</td>\n",
       "      <td>0.886184</td>\n",
       "    </tr>\n",
       "    <tr>\n",
       "      <th>2021-01-16</th>\n",
       "      <td>0.886184</td>\n",
       "      <td>0.957010</td>\n",
       "      <td>0.148980</td>\n",
       "      <td>0.777955</td>\n",
       "      <td>0.876652</td>\n",
       "    </tr>\n",
       "    <tr>\n",
       "      <th>2021-01-17</th>\n",
       "      <td>0.876652</td>\n",
       "      <td>0.972141</td>\n",
       "      <td>0.129932</td>\n",
       "      <td>0.788148</td>\n",
       "      <td>0.897319</td>\n",
       "    </tr>\n",
       "    <tr>\n",
       "      <th>2021-01-18</th>\n",
       "      <td>0.897319</td>\n",
       "      <td>0.972141</td>\n",
       "      <td>0.129932</td>\n",
       "      <td>0.788148</td>\n",
       "      <td>0.883515</td>\n",
       "    </tr>\n",
       "    <tr>\n",
       "      <th>2021-01-19</th>\n",
       "      <td>0.883515</td>\n",
       "      <td>0.972141</td>\n",
       "      <td>0.129932</td>\n",
       "      <td>0.788148</td>\n",
       "      <td>0.870652</td>\n",
       "    </tr>\n",
       "    <tr>\n",
       "      <th>2021-01-20</th>\n",
       "      <td>0.870652</td>\n",
       "      <td>0.998268</td>\n",
       "      <td>0.127891</td>\n",
       "      <td>0.814530</td>\n",
       "      <td>0.754308</td>\n",
       "    </tr>\n",
       "    <tr>\n",
       "      <th>2021-01-21</th>\n",
       "      <td>0.754308</td>\n",
       "      <td>0.998870</td>\n",
       "      <td>0.104762</td>\n",
       "      <td>0.813930</td>\n",
       "      <td>0.808022</td>\n",
       "    </tr>\n",
       "    <tr>\n",
       "      <th>2021-01-22</th>\n",
       "      <td>0.808022</td>\n",
       "      <td>0.993145</td>\n",
       "      <td>0.112245</td>\n",
       "      <td>0.804337</td>\n",
       "      <td>0.784908</td>\n",
       "    </tr>\n",
       "    <tr>\n",
       "      <th>2021-01-23</th>\n",
       "      <td>0.784908</td>\n",
       "      <td>0.993145</td>\n",
       "      <td>0.112245</td>\n",
       "      <td>0.804337</td>\n",
       "      <td>0.790371</td>\n",
       "    </tr>\n",
       "    <tr>\n",
       "      <th>2021-01-24</th>\n",
       "      <td>0.790371</td>\n",
       "      <td>1.000000</td>\n",
       "      <td>0.122449</td>\n",
       "      <td>0.803538</td>\n",
       "      <td>0.792269</td>\n",
       "    </tr>\n",
       "    <tr>\n",
       "      <th>2021-01-25</th>\n",
       "      <td>0.792269</td>\n",
       "      <td>1.000000</td>\n",
       "      <td>0.122449</td>\n",
       "      <td>0.803538</td>\n",
       "      <td>0.797281</td>\n",
       "    </tr>\n",
       "    <tr>\n",
       "      <th>2021-01-26</th>\n",
       "      <td>0.797281</td>\n",
       "      <td>0.997167</td>\n",
       "      <td>0.107483</td>\n",
       "      <td>0.799340</td>\n",
       "      <td>0.744622</td>\n",
       "    </tr>\n",
       "    <tr>\n",
       "      <th>2021-01-27</th>\n",
       "      <td>0.744622</td>\n",
       "      <td>0.948383</td>\n",
       "      <td>0.140136</td>\n",
       "      <td>0.793545</td>\n",
       "      <td>0.774608</td>\n",
       "    </tr>\n",
       "    <tr>\n",
       "      <th>2021-01-28</th>\n",
       "      <td>0.774608</td>\n",
       "      <td>0.966451</td>\n",
       "      <td>0.127211</td>\n",
       "      <td>0.786549</td>\n",
       "      <td>0.840313</td>\n",
       "    </tr>\n",
       "    <tr>\n",
       "      <th>2021-01-29</th>\n",
       "      <td>0.840313</td>\n",
       "      <td>0.930355</td>\n",
       "      <td>0.135374</td>\n",
       "      <td>0.795943</td>\n",
       "      <td>0.839159</td>\n",
       "    </tr>\n",
       "    <tr>\n",
       "      <th>2021-01-30</th>\n",
       "      <td>0.839159</td>\n",
       "      <td>0.930355</td>\n",
       "      <td>0.135374</td>\n",
       "      <td>0.795943</td>\n",
       "      <td>0.810697</td>\n",
       "    </tr>\n",
       "    <tr>\n",
       "      <th>2021-01-31</th>\n",
       "      <td>0.810697</td>\n",
       "      <td>0.959779</td>\n",
       "      <td>0.165306</td>\n",
       "      <td>0.809433</td>\n",
       "      <td>0.821115</td>\n",
       "    </tr>\n",
       "    <tr>\n",
       "      <th>2021-02-01</th>\n",
       "      <td>0.821115</td>\n",
       "      <td>0.959779</td>\n",
       "      <td>0.165306</td>\n",
       "      <td>0.809433</td>\n",
       "      <td>0.871178</td>\n",
       "    </tr>\n",
       "    <tr>\n",
       "      <th>2021-02-02</th>\n",
       "      <td>0.871178</td>\n",
       "      <td>0.959779</td>\n",
       "      <td>0.165306</td>\n",
       "      <td>0.809433</td>\n",
       "      <td>0.871178</td>\n",
       "    </tr>\n",
       "  </tbody>\n",
       "</table>\n",
       "</div>"
      ],
      "text/plain": [
       "            Close-btc  Close-sp500  Close-dxy  Close-gold  Close-btc-output\n",
       "2021-01-13   0.914228     0.977535   0.117687    0.802238          0.960325\n",
       "2021-01-14   0.960325     0.970478   0.112245    0.798941          0.902130\n",
       "2021-01-15   0.902130     0.957010   0.148980    0.777955          0.886184\n",
       "2021-01-16   0.886184     0.957010   0.148980    0.777955          0.876652\n",
       "2021-01-17   0.876652     0.972141   0.129932    0.788148          0.897319\n",
       "2021-01-18   0.897319     0.972141   0.129932    0.788148          0.883515\n",
       "2021-01-19   0.883515     0.972141   0.129932    0.788148          0.870652\n",
       "2021-01-20   0.870652     0.998268   0.127891    0.814530          0.754308\n",
       "2021-01-21   0.754308     0.998870   0.104762    0.813930          0.808022\n",
       "2021-01-22   0.808022     0.993145   0.112245    0.804337          0.784908\n",
       "2021-01-23   0.784908     0.993145   0.112245    0.804337          0.790371\n",
       "2021-01-24   0.790371     1.000000   0.122449    0.803538          0.792269\n",
       "2021-01-25   0.792269     1.000000   0.122449    0.803538          0.797281\n",
       "2021-01-26   0.797281     0.997167   0.107483    0.799340          0.744622\n",
       "2021-01-27   0.744622     0.948383   0.140136    0.793545          0.774608\n",
       "2021-01-28   0.774608     0.966451   0.127211    0.786549          0.840313\n",
       "2021-01-29   0.840313     0.930355   0.135374    0.795943          0.839159\n",
       "2021-01-30   0.839159     0.930355   0.135374    0.795943          0.810697\n",
       "2021-01-31   0.810697     0.959779   0.165306    0.809433          0.821115\n",
       "2021-02-01   0.821115     0.959779   0.165306    0.809433          0.871178\n",
       "2021-02-02   0.871178     0.959779   0.165306    0.809433          0.871178"
      ]
     },
     "execution_count": 7,
     "metadata": {
      "tags": []
     },
     "output_type": "execute_result"
    }
   ],
   "source": [
    "timeseries.tail(21)"
   ]
  },
  {
   "cell_type": "code",
   "execution_count": 9,
   "metadata": {
    "id": "zoa3PtiDFPTC"
   },
   "outputs": [],
   "source": [
    "def get_X_values(values):\n",
    "  \"\"\"\n",
    "  Returns numpay.ndarray of sequence of X_quantity days\n",
    "\n",
    "  Args:\n",
    "    values: array of predict/train values\n",
    "\n",
    "  @author: Pavlo Mospan\n",
    "  \"\"\"\n",
    "  x = []\n",
    "  ready_X = []\n",
    "  COUNT = 1\n",
    "  for i_ in values:\n",
    "    x.extend(i_)\n",
    "    if COUNT % X_quantity == 0:\n",
    "      ready_X.append(x)\n",
    "      x = []\n",
    "\n",
    "    COUNT += 1\n",
    "\n",
    "  ready_X = np.array(ready_X)\n",
    "  return ready_X\n",
    "\n",
    "def get_Y_targets(targets):\n",
    "  \"\"\"\n",
    "  Returns numpay.ndarray of target values\n",
    "\n",
    "  Args:\n",
    "    targets: array of predict/train targets\n",
    "\n",
    "  @author: Pavlo Mospan\n",
    "  \"\"\"\n",
    "  ready_Y = []\n",
    "  for i_ in range(int(len(targets) / X_quantity)):\n",
    "    i_ += 1\n",
    "    ready_Y.append(targets[i_ * X_quantity -1])\n",
    "\n",
    "  ready_Y = np.array(ready_Y)\n",
    "  return ready_Y"
   ]
  },
  {
   "cell_type": "code",
   "execution_count": 10,
   "metadata": {
    "colab": {
     "base_uri": "https://localhost:8080/"
    },
    "id": "ErOUrPYQk8QS",
    "outputId": "d627668a-ef72-4643-95fc-5ed85a770e46"
   },
   "outputs": [
    {
     "name": "stdout",
     "output_type": "stream",
     "text": [
      "predict_values.shape: (21, 4) | predict_target.shape: (21,)\n",
      "\n",
      " predict_X type: <class 'numpy.ndarray'> \n",
      " predict_X.shape: (7, 12) \n",
      " predict_X: \n",
      "[[0.9142277  0.97753518 0.11768727 0.8022384  0.96032531 0.97047789\n",
      "  0.11224497 0.79894078 0.90213046 0.95700984 0.14897971 0.77795547]\n",
      " [0.88618386 0.95700984 0.14897971 0.77795547 0.87665218 0.97214097\n",
      "  0.12993218 0.78814829 0.89731876 0.97214097 0.12993218 0.78814829]\n",
      " [0.88351464 0.97214097 0.12993218 0.78814829 0.87065207 0.99826776\n",
      "  0.12789145 0.81452984 0.75430847 0.99886983 0.10476193 0.81393029]\n",
      " [0.80802164 0.99314501 0.11224497 0.80433691 0.78490792 0.99314501\n",
      "  0.11224497 0.80433691 0.79037114 1.         0.12244915 0.80353754]\n",
      " [0.79226863 1.         0.12244915 0.80353754 0.79728148 0.99716723\n",
      "  0.10748308 0.7993404  0.74462184 0.9483832  0.14013636 0.79354453]\n",
      " [0.77460817 0.96645073 0.12721103 0.78654943 0.84031329 0.93035508\n",
      "  0.13537448 0.79594288 0.83915866 0.93035508 0.13537448 0.79594288]\n",
      " [0.81069731 0.95977851 0.16530609 0.80943344 0.82111481 0.95977851\n",
      "  0.16530609 0.80943344 0.87117756 0.95977851 0.16530609 0.80943344]]\n",
      "\n",
      "Pred Y: [0.88618386 0.88351464 0.80802164 0.79226863 0.77460817 0.81069731\n",
      " 0.87117756]\n"
     ]
    }
   ],
   "source": [
    "# taking 4 features \n",
    "predict_values = predict[:, :-1] \n",
    "# taking target values\n",
    "predict_target = predict[:, -1]\n",
    "\n",
    "print('predict_values.shape: {} | predict_target.shape: {}'.format(predict_values.shape, predict_target.shape))\n",
    "\n",
    "predict_X = get_X_values(predict_values)\n",
    "print('\\n predict_X type: {} \\n predict_X.shape: {} \\n predict_X: \\n{}'.format(type(predict_X), predict_X.shape, predict_X))\n",
    "\n",
    "predict_Y = get_Y_targets(predict_target)\n",
    "print('\\nPred Y: {}'.format(predict_Y))"
   ]
  },
  {
   "cell_type": "code",
   "execution_count": 11,
   "metadata": {
    "colab": {
     "base_uri": "https://localhost:8080/"
    },
    "id": "fu-cMehW9qly",
    "outputId": "78ea9b8e-8565-4b8d-821e-7fe3b7c731e3"
   },
   "outputs": [
    {
     "name": "stdout",
     "output_type": "stream",
     "text": [
      "train_values.shape: (1986, 4) | train_target.shape : (1986,)\n",
      "\n",
      " type of train_X: <class 'numpy.ndarray'> \n",
      " train_X.shape: (662, 12) \n",
      " train_X: \n",
      " [[0.00170226 0.12263364 0.61020397 ... 0.13576601 0.58299351 0.05336255]\n",
      " [0.00132986 0.13576601 0.58299351 ... 0.12681864 0.52176894 0.07234926]\n",
      " [0.00132025 0.12550581 0.53469375 ... 0.12952803 0.5428572  0.06205654]\n",
      " ...\n",
      " [0.78254933 0.92364817 0.08775514 ... 0.9470852  0.06394572 0.85550117]\n",
      " [0.96485174 0.97454939 0.08435409 ... 0.98485887 0.1027212  0.78275204]\n",
      " [0.93985362 0.97248653 0.13265333 ... 0.9732662  0.09932015 0.79154593]]\n",
      "\n",
      " len(train_Y) : 662 \n"
     ]
    }
   ],
   "source": [
    "# taking 4 features\n",
    "train_values = train[:, :-1]\n",
    "# taking target values\n",
    "train_target = train[:, -1]\n",
    "\n",
    "print('train_values.shape: {} | train_target.shape : {}'.format(train_values.shape, train_target.shape))\n",
    "\n",
    "train_X = get_X_values(train_values)\n",
    "print('\\n type of train_X: {} \\n train_X.shape: {} \\n train_X: \\n {}'.format(type(train_X), train_X.shape, train_X))\n",
    "\n",
    "train_Y = get_Y_targets(train_target)\n",
    "print('\\n len(train_Y) : {} '.format(len(train_Y)))"
   ]
  },
  {
   "cell_type": "markdown",
   "metadata": {
    "id": "63ekw5KqMp0x"
   },
   "source": [
    "#### Splitting into Train and Test"
   ]
  },
  {
   "cell_type": "code",
   "execution_count": 12,
   "metadata": {
    "colab": {
     "base_uri": "https://localhost:8080/"
    },
    "id": "VHBda7e7Lo4V",
    "outputId": "64a4d804-8d39-41f6-cbb6-0bdfbd65a534"
   },
   "outputs": [
    {
     "name": "stdout",
     "output_type": "stream",
     "text": [
      "X_train.shape: (529, 1, 12) |  Y_train: (529,)\n",
      "predict_X.shape: (7, 1, 12)\n"
     ]
    }
   ],
   "source": [
    "# reshape input to be 3D [samples, timesteps, features]\n",
    "train_X = train_X.reshape((train_X.shape[0], 1, train_X.shape[1]))\n",
    "predict_X = predict_X.reshape((predict_X.shape[0], 1, predict_X.shape[1]))\n",
    "\n",
    "X_train, X_validate, Y_train, Y_validate = train_test_split(train_X, train_Y, test_size=0.20, random_state=42)\n",
    "\n",
    "print('X_train.shape: {} |  Y_train: {}'.format( X_train.shape, Y_train.shape))\n",
    "print('predict_X.shape: {}'.format( predict_X.shape))"
   ]
  },
  {
   "cell_type": "markdown",
   "metadata": {
    "id": "t97C1Hng4BOR"
   },
   "source": [
    "#### Training The Model\n",
    "\n",
    "keras-tuner is used to get the best possible hyperparameter combination out of 60 different random ones using a random search\n",
    "\n",
    "*forward_days* is bumber of days to predict"
   ]
  },
  {
   "cell_type": "code",
   "execution_count": 14,
   "metadata": {
    "id": "adBu4L63l1a4"
   },
   "outputs": [],
   "source": [
    "class MyHyperModel(HyperModel):\n",
    "\n",
    "    def __init__(self, num_classes):\n",
    "        self.num_classes = num_classes\n",
    "        self.forward_days = 1 \n",
    "\n",
    "    def build(self, hp):\n",
    "        \n",
    "        # Specify model\n",
    "        model = Sequential()\n",
    "        NUM_NEURONS_FirstLayer = hp.Choice('NUM_NEURONS_FirstLayer',values=[80, 90, 100, 120])\n",
    "\n",
    "        model.add(LSTM(NUM_NEURONS_FirstLayer,input_shape=(X_train.shape[1],X_train.shape[2]), return_sequences=True))\n",
    "\n",
    "        model.add(Dropout(hp.Float('dropout_1', 0, 0.4, step=0.1, default=0)))\n",
    "\n",
    "        NUM_NEURONS_SecondLayer = hp.Choice('NUM_NEURONS_SecondLayer',values=[30, 40, 50, 60, 70])\n",
    "        model.add(LSTM(NUM_NEURONS_SecondLayer,input_shape=(NUM_NEURONS_FirstLayer,1)))\n",
    "\n",
    "        model.add(Dropout(hp.Float('dropout_2', 0, 0.4, step=0.1, default=0)))\n",
    "\n",
    "        # Output layer\n",
    "        model.add(Dense(self.forward_days, activation='linear'))\n",
    "\n",
    "        # Compile the constructed model and return it\n",
    "        model.compile(\n",
    "            optimizer=Adam(\n",
    "                hp.Choice('learning_rate',\n",
    "                          values=[0.01, 0.001, 0.0001])),\n",
    "            loss='mean_squared_error')\n",
    "        print(loss)\n",
    "\n",
    "        return model"
   ]
  },
  {
   "cell_type": "code",
   "execution_count": 15,
   "metadata": {
    "colab": {
     "base_uri": "https://localhost:8080/"
    },
    "id": "mzMo6wkWl1ez",
    "outputId": "1b757b03-8519-46e3-eda8-ba1f251dcae9"
   },
   "outputs": [
    {
     "name": "stdout",
     "output_type": "stream",
     "text": [
      "Trial 100 Complete [00h 00m 14s]\n",
      "val_loss: 0.00013716610556002706\n",
      "\n",
      "Best val_loss So Far: 0.00011396520858397707\n",
      "Total elapsed time: 00h 26m 04s\n",
      "INFO:tensorflow:Oracle triggered exit\n"
     ]
    }
   ],
   "source": [
    "hypermodel = MyHyperModel(num_classes=1)    \n",
    "\n",
    "# Construct the RandomSearch tuner\n",
    "random_tuner = RandomSearch(\n",
    "    hypermodel,\n",
    "    objective='val_loss',\n",
    "    max_trials=100,\n",
    "    executions_per_trial = 1,\n",
    "    seed=10, \n",
    "    project_name='lstm-kerastuner-multi',\n",
    "    directory=\"/content\")\n",
    "\n",
    "# Search for the best parameters of the neural network using the contructed random search tuner\n",
    "random_tuner.search(X_train, Y_train,\n",
    "             epochs=100,\n",
    "             validation_data=(X_validate, Y_validate))\n",
    "\n",
    "#get the best model\n",
    "\n",
    "random_params = random_tuner.get_best_hyperparameters()[0]\n",
    "best_model = random_tuner.get_best_models(1)[0]"
   ]
  },
  {
   "cell_type": "code",
   "execution_count": 16,
   "metadata": {
    "colab": {
     "base_uri": "https://localhost:8080/"
    },
    "id": "bj47vaEWl1iQ",
    "outputId": "3b2a3387-3345-40d6-b2f4-490be32132f8"
   },
   "outputs": [
    {
     "name": "stdout",
     "output_type": "stream",
     "text": [
      "Model: \"sequential\"\n",
      "_________________________________________________________________\n",
      "Layer (type)                 Output Shape              Param #   \n",
      "=================================================================\n",
      "lstm (LSTM)                  (None, 1, 90)             37080     \n",
      "_________________________________________________________________\n",
      "dropout (Dropout)            (None, 1, 90)             0         \n",
      "_________________________________________________________________\n",
      "lstm_1 (LSTM)                (None, 70)                45080     \n",
      "_________________________________________________________________\n",
      "dropout_1 (Dropout)          (None, 70)                0         \n",
      "_________________________________________________________________\n",
      "dense (Dense)                (None, 1)                 71        \n",
      "=================================================================\n",
      "Total params: 82,231\n",
      "Trainable params: 82,231\n",
      "Non-trainable params: 0\n",
      "_________________________________________________________________\n"
     ]
    }
   ],
   "source": [
    "best_model.summary()"
   ]
  },
  {
   "cell_type": "markdown",
   "metadata": {
    "id": "S1-s2Khtcnix"
   },
   "source": [
    "#### Saving the model"
   ]
  },
  {
   "cell_type": "code",
   "execution_count": 17,
   "metadata": {
    "colab": {
     "base_uri": "https://localhost:8080/"
    },
    "id": "nEsMycidlSxt",
    "outputId": "4304f64a-39e7-4f3c-9536-9d7d91acad75"
   },
   "outputs": [
    {
     "name": "stdout",
     "output_type": "stream",
     "text": [
      "Saved model `LSTM_MULTI-3.h5` to disk\n"
     ]
    }
   ],
   "source": [
    "#Saving the model\n",
    "\n",
    "file_name = 'LSTM_MULTI-3.h5'\n",
    "best_model.save(file_name)\n",
    "print(\"Saved model `{}` to disk\".format(file_name))"
   ]
  },
  {
   "cell_type": "markdown",
   "metadata": {
    "id": "UlXJYmQjYp_I"
   },
   "source": [
    "#### Loading model fron **/content** or **gdrive** and predicting"
   ]
  },
  {
   "cell_type": "code",
   "execution_count": 18,
   "metadata": {
    "colab": {
     "base_uri": "https://localhost:8080/"
    },
    "id": "QXZfBqU0YGLZ",
    "outputId": "8f8dee97-c575-4bb9-b2a7-9289084d7ac3"
   },
   "outputs": [
    {
     "name": "stdout",
     "output_type": "stream",
     "text": [
      "WARNING:tensorflow:Error in loading the saved optimizer state. As a result, your model is starting with a freshly initialized optimizer.\n",
      "Model: \"sequential\"\n",
      "_________________________________________________________________\n",
      "Layer (type)                 Output Shape              Param #   \n",
      "=================================================================\n",
      "lstm (LSTM)                  (None, 1, 90)             37080     \n",
      "_________________________________________________________________\n",
      "dropout (Dropout)            (None, 1, 90)             0         \n",
      "_________________________________________________________________\n",
      "lstm_1 (LSTM)                (None, 70)                45080     \n",
      "_________________________________________________________________\n",
      "dropout_1 (Dropout)          (None, 70)                0         \n",
      "_________________________________________________________________\n",
      "dense (Dense)                (None, 1)                 71        \n",
      "=================================================================\n",
      "Total params: 82,231\n",
      "Trainable params: 82,231\n",
      "Non-trainable params: 0\n",
      "_________________________________________________________________\n"
     ]
    }
   ],
   "source": [
    "# Loading Model\n",
    "\n",
    "#file_name = '/content/gdrive/MyDrive/ColabData/LSTM_MULTI-3.h5'\n",
    "file_name = '/content/LSTM_MULTI-3.h5'\n",
    "model = tf.keras.models.load_model(file_name)\n",
    "model.summary()"
   ]
  },
  {
   "cell_type": "code",
   "execution_count": 19,
   "metadata": {
    "colab": {
     "base_uri": "https://localhost:8080/"
    },
    "id": "kdM6oDYsdHnP",
    "outputId": "dadc22a1-3ae6-4531-d12c-fd946daac474"
   },
   "outputs": [
    {
     "data": {
      "text/plain": [
       "(array([[0.89402366],\n",
       "        [0.8678383 ],\n",
       "        [0.7935138 ],\n",
       "        [0.7786612 ],\n",
       "        [0.7548254 ],\n",
       "        [0.8176185 ],\n",
       "        [0.8325014 ]], dtype=float32), (7, 1))"
      ]
     },
     "execution_count": 19,
     "metadata": {
      "tags": []
     },
     "output_type": "execute_result"
    }
   ],
   "source": [
    "#yhat = best_model.predict(predict_X)       \n",
    "yhat = model.predict(predict_X) \n",
    "yhat, yhat.shape                      "
   ]
  },
  {
   "cell_type": "markdown",
   "metadata": {
    "id": "ZA37s_HVNtps"
   },
   "source": [
    "I have my predicted values and target values. Now I need only to reshape them and do inverse transform on them "
   ]
  },
  {
   "cell_type": "code",
   "execution_count": 20,
   "metadata": {
    "id": "PPKDSrvESikz"
   },
   "outputs": [],
   "source": [
    "def get_array(g):\n",
    "  \"\"\"\n",
    "  Gets an array of type (None, 1), shapes it into the shape (None, 4), then scales and returns only predicted values\n",
    "  \n",
    "  :param: array of shape (None, 1)\n",
    "  :return: array ready for predictions with shape (None, 4)\n",
    "\n",
    "  @author: Pavlo Mospan\n",
    "  \"\"\"\n",
    "  g = np.insert(g, [1], .4, axis = 1)\n",
    "  g = np.insert(g, [2], .4, axis = 1)\n",
    "  g = np.insert(g, [3], .4, axis = 1)\n",
    "\n",
    "  array_ = scl.inverse_transform(g)\n",
    "  array_ready = []\n",
    "  for i in range(len(array_[:, :1])):\n",
    "    array_ready.append(array_[i,:1][0])\n",
    "\n",
    "  return array_ready"
   ]
  },
  {
   "cell_type": "markdown",
   "metadata": {
    "id": "OlGjSXp65AoW"
   },
   "source": [
    "### Predicting on Test Set"
   ]
  },
  {
   "cell_type": "code",
   "execution_count": 21,
   "metadata": {
    "colab": {
     "base_uri": "https://localhost:8080/"
    },
    "id": "YPkuwSVyTLXH",
    "outputId": "0f6b0c7c-3dd4-4c65-b5cf-c723aa4c6c13"
   },
   "outputs": [
    {
     "name": "stdout",
     "output_type": "stream",
     "text": [
      "PRED:  [36496.336, 35433.547, 32416.93, 31814.105, 30846.682, 33395.27, 33999.324]\n",
      "TRUE:  [36178.140625, 36069.8046875, 33005.76171875, 32366.392578125, 31649.605468750004, 33114.359375, 35569.078125]\n"
     ]
    }
   ],
   "source": [
    "pred = get_array(yhat)\n",
    "print(\"PRED: \", pred)\n",
    "\n",
    "true = get_array(predict_Y.reshape(-1,1))\n",
    "print('TRUE: ', true)"
   ]
  },
  {
   "cell_type": "markdown",
   "metadata": {
    "id": "6UBnLK73OAE0"
   },
   "source": [
    "### Dataframe of predicted values on theit true ones. Note, that the last value in true column doesn't count, since it was added to target array purely to make prediction - it's not real and does not exist. "
   ]
  },
  {
   "cell_type": "code",
   "execution_count": 22,
   "metadata": {
    "colab": {
     "base_uri": "https://localhost:8080/",
     "height": 266
    },
    "id": "jm_1SlgkD4dC",
    "outputId": "4a026656-1960-4ce8-fb96-eb8d01211d3a"
   },
   "outputs": [
    {
     "data": {
      "text/html": [
       "<div>\n",
       "<style scoped>\n",
       "    .dataframe tbody tr th:only-of-type {\n",
       "        vertical-align: middle;\n",
       "    }\n",
       "\n",
       "    .dataframe tbody tr th {\n",
       "        vertical-align: top;\n",
       "    }\n",
       "\n",
       "    .dataframe thead th {\n",
       "        text-align: right;\n",
       "    }\n",
       "</style>\n",
       "<table border=\"1\" class=\"dataframe\">\n",
       "  <thead>\n",
       "    <tr style=\"text-align: right;\">\n",
       "      <th></th>\n",
       "      <th>pred</th>\n",
       "      <th>true</th>\n",
       "    </tr>\n",
       "  </thead>\n",
       "  <tbody>\n",
       "    <tr>\n",
       "      <th>0</th>\n",
       "      <td>36496.335938</td>\n",
       "      <td>36178.140625</td>\n",
       "    </tr>\n",
       "    <tr>\n",
       "      <th>1</th>\n",
       "      <td>35433.546875</td>\n",
       "      <td>36069.804688</td>\n",
       "    </tr>\n",
       "    <tr>\n",
       "      <th>2</th>\n",
       "      <td>32416.929688</td>\n",
       "      <td>33005.761719</td>\n",
       "    </tr>\n",
       "    <tr>\n",
       "      <th>3</th>\n",
       "      <td>31814.105469</td>\n",
       "      <td>32366.392578</td>\n",
       "    </tr>\n",
       "    <tr>\n",
       "      <th>4</th>\n",
       "      <td>30846.681641</td>\n",
       "      <td>31649.605469</td>\n",
       "    </tr>\n",
       "    <tr>\n",
       "      <th>5</th>\n",
       "      <td>33395.269531</td>\n",
       "      <td>33114.359375</td>\n",
       "    </tr>\n",
       "    <tr>\n",
       "      <th>6</th>\n",
       "      <td>33999.324219</td>\n",
       "      <td>35569.078125</td>\n",
       "    </tr>\n",
       "  </tbody>\n",
       "</table>\n",
       "</div>"
      ],
      "text/plain": [
       "           pred          true\n",
       "0  36496.335938  36178.140625\n",
       "1  35433.546875  36069.804688\n",
       "2  32416.929688  33005.761719\n",
       "3  31814.105469  32366.392578\n",
       "4  30846.681641  31649.605469\n",
       "5  33395.269531  33114.359375\n",
       "6  33999.324219  35569.078125"
      ]
     },
     "execution_count": 22,
     "metadata": {
      "tags": []
     },
     "output_type": "execute_result"
    }
   ],
   "source": [
    "d = {\"pred\": pred, \"true\": true}\n",
    "df = pd.DataFrame(d)\n",
    "df"
   ]
  },
  {
   "cell_type": "code",
   "execution_count": 23,
   "metadata": {
    "colab": {
     "base_uri": "https://localhost:8080/",
     "height": 606
    },
    "id": "DN5EyYT92VU1",
    "outputId": "c3c2338f-a358-464d-e322-3063ad9dd719"
   },
   "outputs": [
    {
     "data": {
      "image/png": "[encoded data removed]",
      "text/plain": [
       "<Figure size 1080x720 with 1 Axes>"
      ]
     },
     "metadata": {
      "needs_background": "light",
      "tags": []
     },
     "output_type": "display_data"
    }
   ],
   "source": [
    "plt.figure(figsize = (15,10))\n",
    "plt.plot(pred, color='r', label='Prediction') \n",
    "plt.plot(true, label='Target')\n",
    "plt.xticks(np.arange(0, 10, 1), np.arange(1, 21, 1))\n",
    "plt.xlabel('Days')\n",
    "plt.ylabel('USD')\n",
    "plt.legend(loc='best')\n",
    "plt.show()"
   ]
  },
  {
   "cell_type": "markdown",
   "metadata": {
    "id": "Ru6Ov_dg5M2q"
   },
   "source": [
    "### Predicting on All Values\n",
    "\n",
    "\n",
    "1.   Retrieving all values\n",
    "2.   Reshaping them to match model.predict() conditions\n",
    "3.   Predicting\n",
    "4.   Plotting predictions\n",
    "\n"
   ]
  },
  {
   "cell_type": "code",
   "execution_count": 24,
   "metadata": {
    "colab": {
     "base_uri": "https://localhost:8080/"
    },
    "id": "6wl2EwloUpsP",
    "outputId": "3fa016ef-6fc7-4cf8-b10c-86a52a083cfc"
   },
   "outputs": [
    {
     "data": {
      "text/plain": [
       "(669, 12)"
      ]
     },
     "execution_count": 24,
     "metadata": {
      "tags": []
     },
     "output_type": "execute_result"
    }
   ],
   "source": [
    "predict_all = get_X_values(array[:,:-1])\n",
    "predict_all.shape"
   ]
  },
  {
   "cell_type": "code",
   "execution_count": 25,
   "metadata": {
    "colab": {
     "base_uri": "https://localhost:8080/"
    },
    "id": "2hhKNgdPU903",
    "outputId": "4129d06e-6349-4137-839e-af4b1bbcd153"
   },
   "outputs": [
    {
     "data": {
      "text/plain": [
       "(669, 1, 12)"
      ]
     },
     "execution_count": 25,
     "metadata": {
      "tags": []
     },
     "output_type": "execute_result"
    }
   ],
   "source": [
    "predict_all = predict_all.reshape((predict_all.shape[0], 1, predict_all.shape[1]))\n",
    "predict_all.shape"
   ]
  },
  {
   "cell_type": "code",
   "execution_count": 26,
   "metadata": {
    "colab": {
     "base_uri": "https://localhost:8080/"
    },
    "id": "fitD7VbyVJA0",
    "outputId": "ec96c076-dd17-45e2-8a09-5469cfdfcd99"
   },
   "outputs": [
    {
     "data": {
      "text/plain": [
       "((669, 1), 669)"
      ]
     },
     "execution_count": 26,
     "metadata": {
      "tags": []
     },
     "output_type": "execute_result"
    }
   ],
   "source": [
    "yhat = model.predict(predict_all) \n",
    "    \n",
    "pred = get_array(yhat)\n",
    "yhat.shape , len(pred)"
   ]
  },
  {
   "cell_type": "code",
   "execution_count": 27,
   "metadata": {
    "colab": {
     "base_uri": "https://localhost:8080/",
     "height": 877
    },
    "id": "mi8rTFrTVRn5",
    "outputId": "dbf2706d-effa-4114-cdca-edd872e8ea05"
   },
   "outputs": [
    {
     "data": {
      "image/png": "[encoded data removed]",
      "text/plain": [
       "<Figure size 1440x1080 with 1 Axes>"
      ]
     },
     "metadata": {
      "needs_background": "light",
      "tags": []
     },
     "output_type": "display_data"
    }
   ],
   "source": [
    "plt.figure(figsize = (20,15))\n",
    "plt.plot(pred, color='r', label='Prediction') \n",
    "\n",
    "#plt.xticks(np.arange(0, 10, 1), np.arange(1, 21, 1))\n",
    "plt.xlabel('Days')\n",
    "plt.ylabel('USD')\n",
    "plt.legend(loc='best')\n",
    "plt.show()"
   ]
  },
  {
   "cell_type": "markdown",
   "metadata": {
    "id": "I-1VsoIuJlCG"
   },
   "source": [
    "### Retrieving timestamp of each prediction and concatenating it with prediction values.\n",
    "\n",
    "Reminder: each prediction in array *pred* is made on the basis of three days before. For instance, predicted value for timestep 2015-08-10 is based on 7th, 8th and 9th days"
   ]
  },
  {
   "cell_type": "code",
   "execution_count": 28,
   "metadata": {
    "colab": {
     "base_uri": "https://localhost:8080/",
     "height": 419
    },
    "id": "YGYbfSM86Jbe",
    "outputId": "406ae481-125e-4f3f-f35a-8e6b143baa3e"
   },
   "outputs": [
    {
     "data": {
      "text/html": [
       "<div>\n",
       "<style scoped>\n",
       "    .dataframe tbody tr th:only-of-type {\n",
       "        vertical-align: middle;\n",
       "    }\n",
       "\n",
       "    .dataframe tbody tr th {\n",
       "        vertical-align: top;\n",
       "    }\n",
       "\n",
       "    .dataframe thead th {\n",
       "        text-align: right;\n",
       "    }\n",
       "</style>\n",
       "<table border=\"1\" class=\"dataframe\">\n",
       "  <thead>\n",
       "    <tr style=\"text-align: right;\">\n",
       "      <th></th>\n",
       "      <th>data</th>\n",
       "    </tr>\n",
       "  </thead>\n",
       "  <tbody>\n",
       "    <tr>\n",
       "      <th>0</th>\n",
       "      <td>2015-08-07</td>\n",
       "    </tr>\n",
       "    <tr>\n",
       "      <th>1</th>\n",
       "      <td>2015-08-08</td>\n",
       "    </tr>\n",
       "    <tr>\n",
       "      <th>2</th>\n",
       "      <td>2015-08-09</td>\n",
       "    </tr>\n",
       "    <tr>\n",
       "      <th>3</th>\n",
       "      <td>2015-08-10</td>\n",
       "    </tr>\n",
       "    <tr>\n",
       "      <th>4</th>\n",
       "      <td>2015-08-11</td>\n",
       "    </tr>\n",
       "    <tr>\n",
       "      <th>...</th>\n",
       "      <td>...</td>\n",
       "    </tr>\n",
       "    <tr>\n",
       "      <th>2002</th>\n",
       "      <td>2021-01-29</td>\n",
       "    </tr>\n",
       "    <tr>\n",
       "      <th>2003</th>\n",
       "      <td>2021-01-30</td>\n",
       "    </tr>\n",
       "    <tr>\n",
       "      <th>2004</th>\n",
       "      <td>2021-01-31</td>\n",
       "    </tr>\n",
       "    <tr>\n",
       "      <th>2005</th>\n",
       "      <td>2021-02-01</td>\n",
       "    </tr>\n",
       "    <tr>\n",
       "      <th>2006</th>\n",
       "      <td>2021-02-02</td>\n",
       "    </tr>\n",
       "  </tbody>\n",
       "</table>\n",
       "<p>2007 rows × 1 columns</p>\n",
       "</div>"
      ],
      "text/plain": [
       "           data\n",
       "0    2015-08-07\n",
       "1    2015-08-08\n",
       "2    2015-08-09\n",
       "3    2015-08-10\n",
       "4    2015-08-11\n",
       "...         ...\n",
       "2002 2021-01-29\n",
       "2003 2021-01-30\n",
       "2004 2021-01-31\n",
       "2005 2021-02-01\n",
       "2006 2021-02-02\n",
       "\n",
       "[2007 rows x 1 columns]"
      ]
     },
     "execution_count": 28,
     "metadata": {
      "tags": []
     },
     "output_type": "execute_result"
    }
   ],
   "source": [
    "t = timeseries.reset_index()\n",
    "timestamp = pd.DataFrame()\n",
    "timestamp['data'] = t['index'].copy()\n",
    "timestamp"
   ]
  },
  {
   "cell_type": "code",
   "execution_count": 29,
   "metadata": {
    "colab": {
     "base_uri": "https://localhost:8080/"
    },
    "id": "UDmPiNCSIAGR",
    "outputId": "6946a140-3c2b-4561-df89-70003010f617"
   },
   "outputs": [
    {
     "data": {
      "text/plain": [
       "669"
      ]
     },
     "execution_count": 29,
     "metadata": {
      "tags": []
     },
     "output_type": "execute_result"
    }
   ],
   "source": [
    "DAY = 0\n",
    "ds = []\n",
    "tomorrow = date.today() + timedelta(days=1)\n",
    "tomorrow = tomorrow.strftime('%Y-%m-%d')\n",
    "\n",
    "for i_ in range(len(pred)):\n",
    "  if i_ == (len(pred) -1):\n",
    "    ds.append(tomorrow)\n",
    "  else:\n",
    "    DAY = DAY + 3\n",
    "    ds.append(timestamp.iloc[DAY][0].strftime('%Y-%m-%d'))\n",
    "\n",
    "len(ds)"
   ]
  },
  {
   "cell_type": "code",
   "execution_count": 30,
   "metadata": {
    "colab": {
     "base_uri": "https://localhost:8080/",
     "height": 419
    },
    "id": "o9swRClyfKVp",
    "outputId": "eddf34d1-cbdc-4bc4-fd59-e6109bc20543"
   },
   "outputs": [
    {
     "data": {
      "text/html": [
       "<div>\n",
       "<style scoped>\n",
       "    .dataframe tbody tr th:only-of-type {\n",
       "        vertical-align: middle;\n",
       "    }\n",
       "\n",
       "    .dataframe tbody tr th {\n",
       "        vertical-align: top;\n",
       "    }\n",
       "\n",
       "    .dataframe thead th {\n",
       "        text-align: right;\n",
       "    }\n",
       "</style>\n",
       "<table border=\"1\" class=\"dataframe\">\n",
       "  <thead>\n",
       "    <tr style=\"text-align: right;\">\n",
       "      <th></th>\n",
       "      <th>ds</th>\n",
       "      <th>pred</th>\n",
       "    </tr>\n",
       "  </thead>\n",
       "  <tbody>\n",
       "    <tr>\n",
       "      <th>0</th>\n",
       "      <td>2015-08-10</td>\n",
       "      <td>209.157486</td>\n",
       "    </tr>\n",
       "    <tr>\n",
       "      <th>1</th>\n",
       "      <td>2015-08-13</td>\n",
       "      <td>206.991119</td>\n",
       "    </tr>\n",
       "    <tr>\n",
       "      <th>2</th>\n",
       "      <td>2015-08-16</td>\n",
       "      <td>250.022293</td>\n",
       "    </tr>\n",
       "    <tr>\n",
       "      <th>3</th>\n",
       "      <td>2015-08-19</td>\n",
       "      <td>228.031036</td>\n",
       "    </tr>\n",
       "    <tr>\n",
       "      <th>4</th>\n",
       "      <td>2015-08-22</td>\n",
       "      <td>95.495018</td>\n",
       "    </tr>\n",
       "    <tr>\n",
       "      <th>...</th>\n",
       "      <td>...</td>\n",
       "      <td>...</td>\n",
       "    </tr>\n",
       "    <tr>\n",
       "      <th>664</th>\n",
       "      <td>2021-01-22</td>\n",
       "      <td>32416.929688</td>\n",
       "    </tr>\n",
       "    <tr>\n",
       "      <th>665</th>\n",
       "      <td>2021-01-25</td>\n",
       "      <td>31814.103516</td>\n",
       "    </tr>\n",
       "    <tr>\n",
       "      <th>666</th>\n",
       "      <td>2021-01-28</td>\n",
       "      <td>30846.677734</td>\n",
       "    </tr>\n",
       "    <tr>\n",
       "      <th>667</th>\n",
       "      <td>2021-01-31</td>\n",
       "      <td>33395.269531</td>\n",
       "    </tr>\n",
       "    <tr>\n",
       "      <th>668</th>\n",
       "      <td>2021-02-03</td>\n",
       "      <td>33999.324219</td>\n",
       "    </tr>\n",
       "  </tbody>\n",
       "</table>\n",
       "<p>669 rows × 2 columns</p>\n",
       "</div>"
      ],
      "text/plain": [
       "             ds          pred\n",
       "0    2015-08-10    209.157486\n",
       "1    2015-08-13    206.991119\n",
       "2    2015-08-16    250.022293\n",
       "3    2015-08-19    228.031036\n",
       "4    2015-08-22     95.495018\n",
       "..          ...           ...\n",
       "664  2021-01-22  32416.929688\n",
       "665  2021-01-25  31814.103516\n",
       "666  2021-01-28  30846.677734\n",
       "667  2021-01-31  33395.269531\n",
       "668  2021-02-03  33999.324219\n",
       "\n",
       "[669 rows x 2 columns]"
      ]
     },
     "execution_count": 30,
     "metadata": {
      "tags": []
     },
     "output_type": "execute_result"
    }
   ],
   "source": [
    "d = {\"ds\": ds, \"pred\": pred}\n",
    "df = pd.DataFrame(d)\n",
    "df"
   ]
  },
  {
   "cell_type": "code",
   "execution_count": null,
   "metadata": {
    "id": "O-E1oegrf1as"
   },
   "outputs": [],
   "source": []
  }
 ],
 "metadata": {
  "accelerator": "GPU",
  "colab": {
   "collapsed_sections": [],
   "name": "Keras-tuner-multi-BTC-3.ipynb",
   "provenance": [],
   "toc_visible": true
  },
  "kernelspec": {
   "display_name": "Python 3",
   "language": "python",
   "name": "python3"
  },
  "language_info": {
   "codemirror_mode": {
    "name": "ipython",
    "version": 3
   },
   "file_extension": ".py",
   "mimetype": "text/x-python",
   "name": "python",
   "nbconvert_exporter": "python",
   "pygments_lexer": "ipython3",
   "version": "3.8.3"
  },
  "pycharm": {
   "stem_cell": {
    "cell_type": "raw",
    "source": [],
    "metadata": {
     "collapsed": false
    }
   }
  }
 },
 "nbformat": 4,
 "nbformat_minor": 1
}