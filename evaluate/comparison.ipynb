{
 "cells": [
  {
   "cell_type": "markdown",
   "metadata": {},
   "source": [
    "### '@author: Andrii Koval, Yulia Khlyaka, Pavlo Mospan'"
   ]
  },
  {
   "cell_type": "code",
   "execution_count": 21,
   "metadata": {
    "pycharm": {
     "is_executing": false
    }
   },
   "outputs": [],
   "source": [
    "import numpy as np\n",
    "import pandas as pd\n",
    "from math import sqrt\n",
    "from fbprophet import Prophet\n",
    "from statsmodels.tsa.statespace.sarimax import SARIMAX\n",
    "from tensorflow.keras.models import load_model\n",
    "from datetime import datetime, date, timedelta\n",
    "\n",
    "from sklearn.preprocessing import MinMaxScaler\n",
    "from sklearn.metrics import mean_squared_error\n",
    "import yfinance as yf\n",
    "from pathlib import Path"
   ]
  },
  {
   "cell_type": "code",
   "execution_count": 2,
   "metadata": {},
   "outputs": [],
   "source": [
    "def prepare_data(path=f'{Path().parent.absolute().parent}/data/BTC-USD.csv', start_date='2017-01-01'):\n",
    "    \"\"\"Loads .csv file and prepares data for future use.\n",
    "\n",
    "    Args:\n",
    "        path (str): path to .csv file\n",
    "\n",
    "    Returns:\n",
    "        df: preprocessed DataFrame\n",
    "\n",
    "    @author: Andrii Koval\n",
    "    \"\"\"\n",
    "    df = pd.read_csv(path)\n",
    "    df['Date'] = pd.to_datetime(df.Date, format='%Y-%m-%d')\n",
    "    df['Diff'] = np.diff(df['Close'], prepend=[0])\n",
    "    df['Direction'] = np.where(df['Diff'] >= 0, 'green', 'red')\n",
    "    df['Diff_abs'] = np.abs(df['Diff'])\n",
    "    df = df[df['Date'] > start_date]\n",
    "\n",
    "    return df"
   ]
  },
  {
   "cell_type": "markdown",
   "metadata": {},
   "source": [
    "## Prophet"
   ]
  },
  {
   "cell_type": "code",
   "execution_count": 3,
   "metadata": {},
   "outputs": [
    {
     "name": "stderr",
     "output_type": "stream",
     "text": [
      "INFO:fbprophet:Disabling daily seasonality. Run prophet with daily_seasonality=True to override this.\n",
      "Root Mean Squared Error:  1593.707977659229\n"
     ]
    },
    {
     "data": {
      "text/html": [
       "<div>\n",
       "<style scoped>\n",
       "    .dataframe tbody tr th:only-of-type {\n",
       "        vertical-align: middle;\n",
       "    }\n",
       "\n",
       "    .dataframe tbody tr th {\n",
       "        vertical-align: top;\n",
       "    }\n",
       "\n",
       "    .dataframe thead th {\n",
       "        text-align: right;\n",
       "    }\n",
       "</style>\n",
       "<table border=\"1\" class=\"dataframe\">\n",
       "  <thead>\n",
       "    <tr style=\"text-align: right;\">\n",
       "      <th></th>\n",
       "      <th>ds</th>\n",
       "      <th>trend</th>\n",
       "      <th>yhat_lower</th>\n",
       "      <th>yhat_upper</th>\n",
       "      <th>trend_lower</th>\n",
       "      <th>trend_upper</th>\n",
       "      <th>additive_terms</th>\n",
       "      <th>additive_terms_lower</th>\n",
       "      <th>additive_terms_upper</th>\n",
       "      <th>weekly</th>\n",
       "      <th>weekly_lower</th>\n",
       "      <th>weekly_upper</th>\n",
       "      <th>yearly</th>\n",
       "      <th>yearly_lower</th>\n",
       "      <th>yearly_upper</th>\n",
       "      <th>multiplicative_terms</th>\n",
       "      <th>multiplicative_terms_lower</th>\n",
       "      <th>multiplicative_terms_upper</th>\n",
       "      <th>yhat</th>\n",
       "      <th>y_actual</th>\n",
       "    </tr>\n",
       "  </thead>\n",
       "  <tbody>\n",
       "    <tr>\n",
       "      <th>1483</th>\n",
       "      <td>2021-01-28</td>\n",
       "      <td>28603.938992</td>\n",
       "      <td>29960.998925</td>\n",
       "      <td>34696.392143</td>\n",
       "      <td>28603.938992</td>\n",
       "      <td>28603.938992</td>\n",
       "      <td>3931.915630</td>\n",
       "      <td>3931.915630</td>\n",
       "      <td>3931.915630</td>\n",
       "      <td>-23.684358</td>\n",
       "      <td>-23.684358</td>\n",
       "      <td>-23.684358</td>\n",
       "      <td>3955.599988</td>\n",
       "      <td>3955.599988</td>\n",
       "      <td>3955.599988</td>\n",
       "      <td>0.0</td>\n",
       "      <td>0.0</td>\n",
       "      <td>0.0</td>\n",
       "      <td>32535.854622</td>\n",
       "      <td>31649.605469</td>\n",
       "    </tr>\n",
       "    <tr>\n",
       "      <th>1484</th>\n",
       "      <td>2021-01-29</td>\n",
       "      <td>28691.862442</td>\n",
       "      <td>30383.992891</td>\n",
       "      <td>34966.055908</td>\n",
       "      <td>28691.862442</td>\n",
       "      <td>28691.862442</td>\n",
       "      <td>4003.256325</td>\n",
       "      <td>4003.256325</td>\n",
       "      <td>4003.256325</td>\n",
       "      <td>9.186569</td>\n",
       "      <td>9.186569</td>\n",
       "      <td>9.186569</td>\n",
       "      <td>3994.069756</td>\n",
       "      <td>3994.069756</td>\n",
       "      <td>3994.069756</td>\n",
       "      <td>0.0</td>\n",
       "      <td>0.0</td>\n",
       "      <td>0.0</td>\n",
       "      <td>32695.118767</td>\n",
       "      <td>34316.386719</td>\n",
       "    </tr>\n",
       "    <tr>\n",
       "      <th>1485</th>\n",
       "      <td>2021-01-30</td>\n",
       "      <td>28779.785892</td>\n",
       "      <td>30693.672720</td>\n",
       "      <td>35330.917618</td>\n",
       "      <td>28779.785892</td>\n",
       "      <td>28779.785892</td>\n",
       "      <td>4018.342472</td>\n",
       "      <td>4018.342472</td>\n",
       "      <td>4018.342472</td>\n",
       "      <td>-28.512113</td>\n",
       "      <td>-28.512113</td>\n",
       "      <td>-28.512113</td>\n",
       "      <td>4046.854585</td>\n",
       "      <td>4046.854585</td>\n",
       "      <td>4046.854585</td>\n",
       "      <td>0.0</td>\n",
       "      <td>0.0</td>\n",
       "      <td>0.0</td>\n",
       "      <td>32798.128363</td>\n",
       "      <td>34269.523438</td>\n",
       "    </tr>\n",
       "    <tr>\n",
       "      <th>1486</th>\n",
       "      <td>2021-01-31</td>\n",
       "      <td>28867.709341</td>\n",
       "      <td>30572.166154</td>\n",
       "      <td>35356.342750</td>\n",
       "      <td>28867.709341</td>\n",
       "      <td>28867.709341</td>\n",
       "      <td>4092.096402</td>\n",
       "      <td>4092.096402</td>\n",
       "      <td>4092.096402</td>\n",
       "      <td>-21.115814</td>\n",
       "      <td>-21.115814</td>\n",
       "      <td>-21.115814</td>\n",
       "      <td>4113.212216</td>\n",
       "      <td>4113.212216</td>\n",
       "      <td>4113.212216</td>\n",
       "      <td>0.0</td>\n",
       "      <td>0.0</td>\n",
       "      <td>0.0</td>\n",
       "      <td>32959.805743</td>\n",
       "      <td>33114.359375</td>\n",
       "    </tr>\n",
       "    <tr>\n",
       "      <th>1487</th>\n",
       "      <td>2021-02-01</td>\n",
       "      <td>28955.632791</td>\n",
       "      <td>30884.251275</td>\n",
       "      <td>35624.817958</td>\n",
       "      <td>28955.632791</td>\n",
       "      <td>28955.632791</td>\n",
       "      <td>4236.671158</td>\n",
       "      <td>4236.671158</td>\n",
       "      <td>4236.671158</td>\n",
       "      <td>44.645616</td>\n",
       "      <td>44.645616</td>\n",
       "      <td>44.645616</td>\n",
       "      <td>4192.025542</td>\n",
       "      <td>4192.025542</td>\n",
       "      <td>4192.025542</td>\n",
       "      <td>0.0</td>\n",
       "      <td>0.0</td>\n",
       "      <td>0.0</td>\n",
       "      <td>33192.303949</td>\n",
       "      <td>33537.175781</td>\n",
       "    </tr>\n",
       "  </tbody>\n",
       "</table>\n",
       "</div>"
      ],
      "text/plain": [
       "             ds         trend    yhat_lower    yhat_upper   trend_lower  \\\n",
       "1483 2021-01-28  28603.938992  29960.998925  34696.392143  28603.938992   \n",
       "1484 2021-01-29  28691.862442  30383.992891  34966.055908  28691.862442   \n",
       "1485 2021-01-30  28779.785892  30693.672720  35330.917618  28779.785892   \n",
       "1486 2021-01-31  28867.709341  30572.166154  35356.342750  28867.709341   \n",
       "1487 2021-02-01  28955.632791  30884.251275  35624.817958  28955.632791   \n",
       "\n",
       "       trend_upper  additive_terms  additive_terms_lower  \\\n",
       "1483  28603.938992     3931.915630           3931.915630   \n",
       "1484  28691.862442     4003.256325           4003.256325   \n",
       "1485  28779.785892     4018.342472           4018.342472   \n",
       "1486  28867.709341     4092.096402           4092.096402   \n",
       "1487  28955.632791     4236.671158           4236.671158   \n",
       "\n",
       "      additive_terms_upper     weekly  weekly_lower  weekly_upper  \\\n",
       "1483           3931.915630 -23.684358    -23.684358    -23.684358   \n",
       "1484           4003.256325   9.186569      9.186569      9.186569   \n",
       "1485           4018.342472 -28.512113    -28.512113    -28.512113   \n",
       "1486           4092.096402 -21.115814    -21.115814    -21.115814   \n",
       "1487           4236.671158  44.645616     44.645616     44.645616   \n",
       "\n",
       "           yearly  yearly_lower  yearly_upper  multiplicative_terms  \\\n",
       "1483  3955.599988   3955.599988   3955.599988                   0.0   \n",
       "1484  3994.069756   3994.069756   3994.069756                   0.0   \n",
       "1485  4046.854585   4046.854585   4046.854585                   0.0   \n",
       "1486  4113.212216   4113.212216   4113.212216                   0.0   \n",
       "1487  4192.025542   4192.025542   4192.025542                   0.0   \n",
       "\n",
       "      multiplicative_terms_lower  multiplicative_terms_upper          yhat  \\\n",
       "1483                         0.0                         0.0  32535.854622   \n",
       "1484                         0.0                         0.0  32695.118767   \n",
       "1485                         0.0                         0.0  32798.128363   \n",
       "1486                         0.0                         0.0  32959.805743   \n",
       "1487                         0.0                         0.0  33192.303949   \n",
       "\n",
       "          y_actual  \n",
       "1483  31649.605469  \n",
       "1484  34316.386719  \n",
       "1485  34269.523438  \n",
       "1486  33114.359375  \n",
       "1487  33537.175781  "
      ]
     },
     "execution_count": 3,
     "metadata": {},
     "output_type": "execute_result"
    }
   ],
   "source": [
    "df = prepare_data()\n",
    "df = df.rename(columns={\"Date\": \"ds\", \"Close\": \"y\"})\n",
    "\n",
    "model = Prophet()\n",
    "model.fit(df)\n",
    "\n",
    "today = datetime.today()\n",
    "end = datetime.strptime('2021-03-01', '%Y-%m-%d')\n",
    "diff = (end - today).days\n",
    "future = model.make_future_dataframe(periods=diff, freq='D')\n",
    "forecast = model.predict(future)\n",
    "\n",
    "forecast['y_actual'] = model.history['y']\n",
    "forecast = forecast.fillna(0)\n",
    "\n",
    "forecast = forecast[forecast['ds'] <= '2021-02-01']\n",
    "rmse = mean_squared_error(forecast['yhat'], forecast['y_actual'], squared=False)\n",
    "print('Root Mean Squared Error: ', rmse)\n",
    "\n",
    "forecast.tail()"
   ]
  },
  {
   "cell_type": "markdown",
   "metadata": {},
   "source": [
    "## ARIMA"
   ]
  },
  {
   "cell_type": "code",
   "execution_count": 6,
   "metadata": {},
   "outputs": [
    {
     "name": "stdout",
     "output_type": "stream",
     "text": [
      "Root Mean Squared Error 01.01.2017-01.02.2021:  646.257946471278\n"
     ]
    }
   ],
   "source": [
    "def load_data_arima():\n",
    "    \"\"\"Loads .csv file and prepares data for future use.\n",
    "\n",
    "    Args:\n",
    "        path (str): path to .csv file\n",
    "\n",
    "    Returns:\n",
    "        df: preprocessed DataFrame\n",
    "\n",
    "    @author: Yulia Khlyaka\n",
    "    \"\"\"\n",
    "    # loading data\n",
    "    path = f'{Path().parent.absolute().parent}/data/BTC-USD.csv'\n",
    "    df = pd.read_csv(path)\n",
    "\n",
    "    df['Date'] = pd.to_datetime(df.Date, format='%Y-%m-%d')\n",
    "    # # Producing and visualizing forecasts\n",
    "    cols = ['Open', 'Low', 'High', 'Volume', 'Adj Close']\n",
    "    df.drop(cols, axis=1, inplace=True)   \n",
    "    return df\n",
    "\n",
    "# Reading in the data\n",
    "df_a = load_data_arima()\n",
    "# Resampling to daily frequency\n",
    "df_a.index = df_a.Date\n",
    "df_a = df_a.resample('D').mean()\n",
    "\n",
    "# Model\n",
    "mod = SARIMAX(df_a, order=(0, 1, 1), seasonal_order=(1, 1, 1, 12))\n",
    "res = mod.fit(disp=-1)\n",
    "# Prediction\n",
    "start = datetime.strptime('2017-01-01', '%Y-%m-%d')\n",
    "end = datetime.strptime('2021-02-01', '%Y-%m-%d')\n",
    "a_forecast = res.get_prediction(start=start, end=end)\n",
    "a_forecast = a_forecast.predicted_mean\n",
    "a_forecast = a_forecast.reset_index()\n",
    "a_forecast.columns = ['ds', 'yhat']\n",
    "\n",
    "# actual values\n",
    "history_df = load_data_arima()\n",
    "start_date = datetime.strptime('2016-12-31', '%Y-%m-%d')\n",
    "end_date = datetime.strptime('2021-02-02', '%Y-%m-%d')\n",
    "history_df = df_arima[(df_arima['Date'] > start_date) & (df_arima['Date'] < end_date)]\n",
    "history_df = history_df.Close\n",
    "a_forecast['y_actual'] = history_df\n",
    "\n",
    "# Forecast Error\n",
    "a_forecast['error'] = pow((a_forecast['y_actual'] - a_forecast['yhat']), 2)\n",
    "print('Root Mean Squared Error 01.01.2017-01.02.2021: ', sqrt(a_forecast['error'].mean()))\n"
   ]
  },
  {
   "cell_type": "markdown",
   "metadata": {
    "pycharm": {
     "is_executing": false
    }
   },
   "source": [
    "## LSTM - 1 feature (Bidirectional)"
   ]
  },
  {
   "cell_type": "code",
   "execution_count": 22,
   "metadata": {
    "pycharm": {
     "is_executing": false
    }
   },
   "outputs": [
    {
     "name": "stdout",
     "text": [
      "\r[*********************100%***********************]  1 of 1 completed",
      "\nwhole_data:  (1470, 20, 1)\nwhole_targets:  (1470, 1)\n"
     ],
     "output_type": "stream"
    },
    {
     "data": {
      "text/plain": "((1396, 20, 1), (74, 20, 1))"
     },
     "metadata": {},
     "output_type": "execute_result",
     "execution_count": 22
    }
   ],
   "source": [
    "df = yf.download('BTC-USD', start='2017-01-01', end = '2021-02-01')\n",
    "df = df.reset_index()\n",
    "\n",
    "scaler = MinMaxScaler()\n",
    "\n",
    "close_price = df.Close.values.reshape(-1, 1)\n",
    "\n",
    "scaled_close = scaler.fit_transform(close_price)\n",
    "\n",
    "SEQ_LEN = 20\n",
    "whole_data = np.empty([1, 20, 1])\n",
    "whole_targets = np.empty([1, 1])\n",
    "\n",
    "def to_sequences(data, seq_len):\n",
    "    \"\"\"\n",
    "    Spliting data into sequences of the preset length \n",
    "    and obtaining shape: [batch_size, sequence_length, n_features]\n",
    "    \n",
    "    :param data: array of values\n",
    "    :param seq_len: sequence length\n",
    "    \n",
    "    :return: array of sequenced values\n",
    "    \n",
    "    @author: Pavlo Mospan\n",
    "    \"\"\"\n",
    "    d = []\n",
    "\n",
    "    for index in range(len(data) - seq_len + 1):\n",
    "        d.append(data[index: index + seq_len])\n",
    "\n",
    "    return np.array(d)\n",
    "\n",
    "def preprocess(data_raw, seq_len, train_split):\n",
    "    \"\"\"\n",
    "    Building sequences by creating a sequence of a specified length at position 0. \n",
    "    Then shifting one position to the right (e.g. 1) and creating another sequence. \n",
    "    \n",
    "    :param data_raw: array of values\n",
    "    :param seq_len: sequence length\n",
    "    :param train_split: percentage of train/test split\n",
    "    \n",
    "    :return: arrays of trained and test values\n",
    "    \n",
    "    @author: Pavlo Mospan\n",
    "    \"\"\"\n",
    "\n",
    "    global whole_data, whole_targets\n",
    "    whole_data = to_sequences(data_raw, seq_len)\n",
    "    whole_targets = whole_data[:, -1, :]\n",
    "    print('whole_data: ', whole_data.shape)\n",
    "    print('whole_targets: ', whole_targets.shape)\n",
    "\n",
    "    num_train = int(train_split * whole_data.shape[0])\n",
    "\n",
    "    X_train = whole_data[:num_train, :, :]\n",
    "    y_train = whole_data[:num_train, -1, :]\n",
    "\n",
    "    X_test = whole_data[num_train:, :, :]\n",
    "    y_test = whole_data[num_train:, -1, :]\n",
    "\n",
    "    return X_train, y_train, X_test, y_test\n",
    "\n",
    "X_train, y_train, X_test, y_test = preprocess(scaled_close, SEQ_LEN, train_split = 0.95)\n",
    "\n",
    "X_train.shape, X_test.shape"
   ]
  },
  {
   "cell_type": "code",
   "execution_count": 23,
   "metadata": {
    "pycharm": {
     "is_executing": false
    }
   },
   "outputs": [],
   "source": [
    "def get_prediction_array(X):\n",
    "  \"\"\"\n",
    "  Inserts an other array to the end of the whole_data sequence in order to make\n",
    "  array for predicting tomorrow's value\n",
    "\n",
    "  returns: array of shape (None, 20, 1)\n",
    "  \n",
    "  @author: Pavlo Mospan\n",
    "  \"\"\"\n",
    "  next = len(X)\n",
    "  a = np.insert(X,[next],X[next-1], axis=0)\n",
    "  for i_ in range(len(a[100]) - 1):\n",
    "    if(i_ == 20):\n",
    "      a[next][i_][0] == a[next][i_ - 1][0]\n",
    "    else:\n",
    "      a[next][i_][0] = a[next][i_ + 1][0]\n",
    "  \n",
    "  return a"
   ]
  },
  {
   "cell_type": "code",
   "execution_count": 18,
   "metadata": {
    "pycharm": {
     "is_executing": false
    }
   },
   "outputs": [
    {
     "data": {
      "text/plain": [
       "((1471, 20, 1), (1471, 1))"
      ]
     },
     "execution_count": 18,
     "metadata": {},
     "output_type": "execute_result"
    }
   ],
   "source": [
    "targ_array = get_prediction_array(whole_targets)\n",
    "pred_array = get_prediction_array(whole_data)\n",
    "pred_array.shape, targ_array.shape "
   ]
  },
  {
   "cell_type": "code",
   "execution_count": 19,
   "metadata": {
    "pycharm": {
     "is_executing": false
    }
   },
   "outputs": [
    {
     "name": "stdout",
     "output_type": "stream",
     "text": [
      "Predicted BTC price for the next day: [34196.31] and true BTC price for the next day: [33114.359375]\n"
     ]
    }
   ],
   "source": [
    "model = load_model('../models/lstm/bidirect_lstm/BidirectLSTM_BTC-1f.h5')\n",
    "\n",
    "y_hat = model.predict(pred_array)\n",
    "\n",
    "y_true_inverse = scaler.inverse_transform(targ_array)\n",
    "y_hat_inverse = scaler.inverse_transform(y_hat)\n",
    "\n",
    "print('Predicted BTC price for the next day: {} and true BTC price for the next day: {}'.format(y_hat_inverse[-1], y_true_inverse[-1]))"
   ]
  },
  {
   "cell_type": "code",
   "execution_count": 20,
   "metadata": {
    "pycharm": {
     "is_executing": false
    }
   },
   "outputs": [
    {
     "name": "stdout",
     "output_type": "stream",
     "text": [
      "Root mean squared error:  424.92938066897835\n"
     ]
    }
   ],
   "source": [
    "print('Root mean squared error: ', mean_squared_error(y_hat_inverse, y_true_inverse, squared=False))"
   ]
  },
  {
   "cell_type": "markdown",
   "metadata": {},
   "source": [
    "## LSTM - 4 features"
   ]
  },
  {
   "cell_type": "code",
   "execution_count": 2,
   "metadata": {
    "pycharm": {
     "is_executing": false
    }
   },
   "outputs": [
    {
     "name": "stdout",
     "output_type": "stream",
     "text": [
      "\r",
      "[*********************100%***********************]  1 of 1 completed\n",
      "\r",
      "[*********************100%***********************]  1 of 1 completed\n",
      "\r",
      "[*********************100%***********************]  1 of 1 completed\n",
      "\r",
      "[*********************100%***********************]  1 of 1 completed\n",
      "            Close-btc  Close-sp500  Close-dxy  Close-gold  Close-btc-output\n",
      "2015-08-07   0.001702     0.122634   0.610204    0.043270          0.001244\n",
      "2015-08-08   0.001244     0.122634   0.610204    0.043270          0.001345\n",
      "2015-08-09   0.001345     0.135766   0.582994    0.053363          0.001330\n",
      "2015-08-10   0.001330     0.135766   0.582994    0.053363          0.001476\n",
      "2015-08-11   0.001476     0.125841   0.591837    0.056760          0.001377\n",
      "...               ...          ...        ...         ...               ...\n",
      "2021-02-13   0.810697     0.930355   0.135374    0.795943          0.810697\n",
      "2021-02-14   0.810697     0.930355   0.135374    0.795943          0.810697\n",
      "2021-02-15   0.810697     0.930355   0.135374    0.795943          0.810697\n",
      "2021-02-16   0.810697     0.930355   0.135374    0.795943          0.810697\n",
      "2021-02-17   0.810697     0.930355   0.135374    0.795943          0.810697\n",
      "\n",
      "[2022 rows x 5 columns]\n"
     ]
    }
   ],
   "source": [
    "today = datetime.today().strftime('%Y-%m-%d')\n",
    "start_date = '2015-08-07'\n",
    "end_date = '2021-02-01'\n",
    "idx = pd.date_range(start_date, today)\n",
    "\n",
    "df_A = yf.download(\"BTC-USD\", start=start_date, end=end_date)\n",
    "df_A = df_A[\"Close\"]\n",
    "df_A = df_A.reindex(idx, fill_value=0, method=\"nearest\")\n",
    "\n",
    "# The S&P 500 - stock market index that measures the stock performance of 500 large companies listed on stock exchanges in the US. \n",
    "df_B = yf.download(\"%5EGSPC\", start=start_date, end=end_date)\n",
    "df_B = df_B[\"Close\"]\n",
    "df_B = df_B.reindex(idx, fill_value=0, method=\"nearest\")\n",
    "\n",
    "# US Dollar/USDX - Index - Cash\n",
    "df_C = yf.download(\"DX-Y.NYB\", start=start_date, end=end_date)\n",
    "df_C = df_C[\"Close\"]\n",
    "df_C = df_C.reindex(idx, fill_value=0, method=\"nearest\")\n",
    "\n",
    "# Gold\n",
    "df_D = yf.download(\"GC=F\", start=start_date, end=end_date)\n",
    "df_D = df_D[\"Close\"]\n",
    "df_D = df_D.reindex(idx, fill_value=0, method=\"nearest\")\n",
    "\n",
    "timeseries = pd.concat([df_A, df_B, df_C, df_D], axis=1)\n",
    "\n",
    "timeseries.columns=([\"Close-btc\", \"Close-sp500\", \"Close-dxy\", \"Close-gold\"])\n",
    "btc = timeseries['Close-btc'].copy()\n",
    "\n",
    "scl = MinMaxScaler()\n",
    "\n",
    "timeseries[[\"Close-btc\", \"Close-sp500\", \"Close-dxy\", \"Close-gold\"]] = scl.fit_transform(timeseries[\n",
    "                                                [\"Close-btc\", \"Close-sp500\", \"Close-dxy\", \"Close-gold\"]])\n",
    "\n",
    "timeseries[\"Close-btc-output\"] = timeseries[\"Close-btc\"]\n",
    "timeseries[\"Close-btc-output\"] = timeseries[\"Close-btc-output\"].shift(-1)\n",
    "#timeseries.drop(timeseries.tail(1).index, inplace=True)\n",
    "timeseries.loc[today, 'Close-btc-output']\n",
    "\n",
    "yesterday = date.today() - timedelta(days=1)\n",
    "yesterday = yesterday.strftime('%Y-%m-%d')\n",
    "\n",
    "timeseries.loc[today, 'Close-btc-output'] = timeseries.loc[yesterday, 'Close-btc-output']\n",
    "print(timeseries)\n",
    "array = timeseries.values"
   ]
  },
  {
   "cell_type": "code",
   "execution_count": 3,
   "metadata": {
    "pycharm": {
     "is_executing": false
    }
   },
   "outputs": [
    {
     "name": "stdout",
     "output_type": "stream",
     "text": [
      "Division:  21 Split is on:  2001\n"
     ]
    },
    {
     "data": {
      "text/plain": [
       "(array([[0.77460817, 0.96645073, 0.12721103, 0.78654943, 0.84031329],\n",
       "        [0.84031329, 0.93035508, 0.13537448, 0.79594288, 0.83915866],\n",
       "        [0.83915866, 0.93035508, 0.13537448, 0.79594288, 0.81069731],\n",
       "        [0.81069731, 0.93035508, 0.13537448, 0.79594288, 0.81069731],\n",
       "        [0.81069731, 0.93035508, 0.13537448, 0.79594288, 0.81069731],\n",
       "        [0.81069731, 0.93035508, 0.13537448, 0.79594288, 0.81069731],\n",
       "        [0.81069731, 0.93035508, 0.13537448, 0.79594288, 0.81069731],\n",
       "        [0.81069731, 0.93035508, 0.13537448, 0.79594288, 0.81069731],\n",
       "        [0.81069731, 0.93035508, 0.13537448, 0.79594288, 0.81069731],\n",
       "        [0.81069731, 0.93035508, 0.13537448, 0.79594288, 0.81069731],\n",
       "        [0.81069731, 0.93035508, 0.13537448, 0.79594288, 0.81069731],\n",
       "        [0.81069731, 0.93035508, 0.13537448, 0.79594288, 0.81069731],\n",
       "        [0.81069731, 0.93035508, 0.13537448, 0.79594288, 0.81069731],\n",
       "        [0.81069731, 0.93035508, 0.13537448, 0.79594288, 0.81069731],\n",
       "        [0.81069731, 0.93035508, 0.13537448, 0.79594288, 0.81069731],\n",
       "        [0.81069731, 0.93035508, 0.13537448, 0.79594288, 0.81069731],\n",
       "        [0.81069731, 0.93035508, 0.13537448, 0.79594288, 0.81069731],\n",
       "        [0.81069731, 0.93035508, 0.13537448, 0.79594288, 0.81069731],\n",
       "        [0.81069731, 0.93035508, 0.13537448, 0.79594288, 0.81069731],\n",
       "        [0.81069731, 0.93035508, 0.13537448, 0.79594288, 0.81069731],\n",
       "        [0.81069731, 0.93035508, 0.13537448, 0.79594288, 0.81069731]]),\n",
       " (21, 5))"
      ]
     },
     "execution_count": 3,
     "metadata": {},
     "output_type": "execute_result"
    }
   ],
   "source": [
    "#number of days to take in a row before Y\n",
    "X_quantity = 3  \n",
    "mod = len(array) % X_quantity\n",
    "\n",
    "# how many predictions to make\n",
    "times = 7\n",
    "\n",
    "# deleting first-mod values to have /mod-zero array\n",
    "for i_ in range(mod):\n",
    "  array = np.delete(array, 0, 0)\n",
    "\n",
    "# for splitting into train/test\n",
    "division = X_quantity * times\n",
    "split = len(array) - division\n",
    "print('Division: ', division, 'Split is on: ', split)\n",
    "\n",
    "predict = array[split:]\n",
    "train = array[:split]\n",
    "\n",
    "predict, predict.shape"
   ]
  },
  {
   "cell_type": "code",
   "execution_count": 4,
   "metadata": {
    "pycharm": {
     "is_executing": false
    }
   },
   "outputs": [],
   "source": [
    "def get_X_values(values):\n",
    "  \"\"\"\n",
    "  Returns numpay.ndarray of sequence of X_quantity days\n",
    "\n",
    "  Args:\n",
    "    values: array of predict/train values\n",
    "\n",
    "  @author: Pavlo Mospan\n",
    "  \"\"\"\n",
    "  x = []\n",
    "  ready_X = []\n",
    "  COUNT = 1\n",
    "  for i_ in values:\n",
    "    x.extend(i_)\n",
    "    if COUNT % X_quantity == 0:\n",
    "      ready_X.append(x)\n",
    "      x = []\n",
    "\n",
    "    COUNT += 1\n",
    "\n",
    "  ready_X = np.array(ready_X)\n",
    "  return ready_X\n",
    "\n",
    "def get_Y_targets(targets):\n",
    "  \"\"\"\n",
    "  Returns numpay.ndarray of target values\n",
    "\n",
    "  Args:\n",
    "    targets: array of predict/train targets\n",
    "\n",
    "  @author: Pavlo Mospan\n",
    "  \"\"\"\n",
    "  ready_Y = []\n",
    "  for i_ in range(int(len(targets) / X_quantity)):\n",
    "    i_ += 1\n",
    "    ready_Y.append(targets[i_ * X_quantity -1])\n",
    "\n",
    "  ready_Y = np.array(ready_Y)\n",
    "  return ready_Y\n",
    "\n",
    "\n",
    "# taking 4 features \n",
    "predict_values = predict[:, :-1] \n",
    "# taking target values\n",
    "predict_target = predict[:, -1]\n",
    "\n",
    "# taking 4 features\n",
    "train_values = train[:, :-1]\n",
    "# taking target values\n",
    "train_target = train[:, -1]\n"
   ]
  },
  {
   "cell_type": "code",
   "execution_count": 5,
   "metadata": {
    "pycharm": {
     "is_executing": false
    }
   },
   "outputs": [],
   "source": [
    "def get_array(g):\n",
    "  \"\"\"\n",
    "  Gets an array of type (None, 1), shapes it into the shape (None, 4), then scales and returns only predicted values\n",
    "  \n",
    "  :param: array of shape (None, 1)\n",
    "  :return: array ready for predictions with shape (None, 4)\n",
    "\n",
    "  @author: Pavlo Mospan\n",
    "  \"\"\"\n",
    "  g = np.insert(g, [1], .4, axis = 1)\n",
    "  g = np.insert(g, [2], .4, axis = 1)\n",
    "  g = np.insert(g, [3], .4, axis = 1)\n",
    "\n",
    "  array_ = scl.inverse_transform(g)\n",
    "  array_ready = []\n",
    "  for i in range(len(array_[:, :1])):\n",
    "    array_ready.append(array_[i,:1][0])\n",
    "\n",
    "  return array_ready"
   ]
  },
  {
   "cell_type": "code",
   "execution_count": 6,
   "metadata": {
    "pycharm": {
     "is_executing": false
    }
   },
   "outputs": [
    {
     "name": "stdout",
     "output_type": "stream",
     "text": [
      "WARNING:tensorflow:Error in loading the saved optimizer state. As a result, your model is starting with a freshly initialized optimizer.\n"
     ]
    }
   ],
   "source": [
    "model = load_model('../models/lstm/LSTM_MULTI-3.h5')"
   ]
  },
  {
   "cell_type": "code",
   "execution_count": 7,
   "metadata": {
    "pycharm": {
     "is_executing": false
    }
   },
   "outputs": [
    {
     "data": {
      "text/plain": [
       "(674, 12)"
      ]
     },
     "execution_count": 7,
     "metadata": {},
     "output_type": "execute_result"
    }
   ],
   "source": [
    "predict_all = get_X_values(array[:,:-1])\n",
    "predict_all.shape"
   ]
  },
  {
   "cell_type": "code",
   "execution_count": 8,
   "metadata": {
    "pycharm": {
     "is_executing": false
    }
   },
   "outputs": [
    {
     "data": {
      "text/plain": [
       "(674, 1, 12)"
      ]
     },
     "execution_count": 8,
     "metadata": {},
     "output_type": "execute_result"
    }
   ],
   "source": [
    "predict_all = predict_all.reshape((predict_all.shape[0], 1, predict_all.shape[1]))\n",
    "predict_all.shape"
   ]
  },
  {
   "cell_type": "code",
   "execution_count": 9,
   "metadata": {
    "pycharm": {
     "is_executing": false
    }
   },
   "outputs": [
    {
     "data": {
      "text/plain": [
       "((674, 1), 674)"
      ]
     },
     "execution_count": 9,
     "metadata": {},
     "output_type": "execute_result"
    }
   ],
   "source": [
    "yhat = model.predict(predict_all) \n",
    "    \n",
    "pred = get_array(yhat)\n",
    "yhat.shape , len(pred)"
   ]
  },
  {
   "cell_type": "code",
   "execution_count": 10,
   "metadata": {
    "pycharm": {
     "is_executing": false
    }
   },
   "outputs": [
    {
     "data": {
      "text/html": [
       "<div>\n",
       "<style scoped>\n",
       "    .dataframe tbody tr th:only-of-type {\n",
       "        vertical-align: middle;\n",
       "    }\n",
       "\n",
       "    .dataframe tbody tr th {\n",
       "        vertical-align: top;\n",
       "    }\n",
       "\n",
       "    .dataframe thead th {\n",
       "        text-align: right;\n",
       "    }\n",
       "</style>\n",
       "<table border=\"1\" class=\"dataframe\">\n",
       "  <thead>\n",
       "    <tr style=\"text-align: right;\">\n",
       "      <th></th>\n",
       "      <th>data</th>\n",
       "    </tr>\n",
       "  </thead>\n",
       "  <tbody>\n",
       "    <tr>\n",
       "      <th>0</th>\n",
       "      <td>2015-08-07</td>\n",
       "    </tr>\n",
       "    <tr>\n",
       "      <th>1</th>\n",
       "      <td>2015-08-08</td>\n",
       "    </tr>\n",
       "    <tr>\n",
       "      <th>2</th>\n",
       "      <td>2015-08-09</td>\n",
       "    </tr>\n",
       "    <tr>\n",
       "      <th>3</th>\n",
       "      <td>2015-08-10</td>\n",
       "    </tr>\n",
       "    <tr>\n",
       "      <th>4</th>\n",
       "      <td>2015-08-11</td>\n",
       "    </tr>\n",
       "    <tr>\n",
       "      <th>...</th>\n",
       "      <td>...</td>\n",
       "    </tr>\n",
       "    <tr>\n",
       "      <th>2017</th>\n",
       "      <td>2021-02-13</td>\n",
       "    </tr>\n",
       "    <tr>\n",
       "      <th>2018</th>\n",
       "      <td>2021-02-14</td>\n",
       "    </tr>\n",
       "    <tr>\n",
       "      <th>2019</th>\n",
       "      <td>2021-02-15</td>\n",
       "    </tr>\n",
       "    <tr>\n",
       "      <th>2020</th>\n",
       "      <td>2021-02-16</td>\n",
       "    </tr>\n",
       "    <tr>\n",
       "      <th>2021</th>\n",
       "      <td>2021-02-17</td>\n",
       "    </tr>\n",
       "  </tbody>\n",
       "</table>\n",
       "<p>2022 rows × 1 columns</p>\n",
       "</div>"
      ],
      "text/plain": [
       "           data\n",
       "0    2015-08-07\n",
       "1    2015-08-08\n",
       "2    2015-08-09\n",
       "3    2015-08-10\n",
       "4    2015-08-11\n",
       "...         ...\n",
       "2017 2021-02-13\n",
       "2018 2021-02-14\n",
       "2019 2021-02-15\n",
       "2020 2021-02-16\n",
       "2021 2021-02-17\n",
       "\n",
       "[2022 rows x 1 columns]"
      ]
     },
     "execution_count": 10,
     "metadata": {},
     "output_type": "execute_result"
    }
   ],
   "source": [
    "t = timeseries.reset_index()\n",
    "timestamp = pd.DataFrame()\n",
    "timestamp['data'] = t['index'].copy()\n",
    "timestamp"
   ]
  },
  {
   "cell_type": "code",
   "execution_count": 11,
   "metadata": {
    "pycharm": {
     "is_executing": false
    }
   },
   "outputs": [],
   "source": [
    "DAY = 0\n",
    "ds = []\n",
    "y_actual = []\n",
    "tomorrow = date.today() + timedelta(days=1)\n",
    "tomorrow = tomorrow.strftime('%Y-%m-%d')\n",
    "\n",
    "for i_ in range(len(pred)):\n",
    "  if i_ == (len(pred) - 1):\n",
    "    ds.append(tomorrow)\n",
    "    y_actual.append(0)\n",
    "  else:\n",
    "    DAY = DAY + 3\n",
    "    ds.append(timestamp.iloc[DAY][0].strftime('%Y-%m-%d'))\n",
    "    y_actual.append(btc.iloc[DAY])"
   ]
  },
  {
   "cell_type": "code",
   "execution_count": 12,
   "metadata": {
    "pycharm": {
     "is_executing": false
    }
   },
   "outputs": [
    {
     "name": "stdout",
     "output_type": "stream",
     "text": [
      "Root mean squared error:  1339.3126780735515\n"
     ]
    }
   ],
   "source": [
    "print('Root mean squared error: ', mean_squared_error(y_actual, pred, squared=False))"
   ]
  },
  {
   "cell_type": "code",
   "execution_count": null,
   "metadata": {},
   "outputs": [],
   "source": []
  }
 ],
 "metadata": {
  "kernelspec": {
   "display_name": "Python 3",
   "language": "python",
   "name": "python3"
  },
  "language_info": {
   "codemirror_mode": {
    "name": "ipython",
    "version": 3
   },
   "file_extension": ".py",
   "mimetype": "text/x-python",
   "name": "python",
   "nbconvert_exporter": "python",
   "pygments_lexer": "ipython3",
   "version": "3.7.4"
  },
  "pycharm": {
   "stem_cell": {
    "cell_type": "raw",
    "metadata": {
     "collapsed": false
    },
    "source": []
   }
  }
 },
 "nbformat": 4,
 "nbformat_minor": 2
}